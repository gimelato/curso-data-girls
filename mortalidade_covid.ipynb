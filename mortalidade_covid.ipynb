{
  "nbformat": 4,
  "nbformat_minor": 0,
  "metadata": {
    "colab": {
      "name": "mortalidade_covid.ipynb",
      "provenance": [],
      "mount_file_id": "1qFf7qPci34eRtCogG4wGtpLYo2laxLIc",
      "authorship_tag": "ABX9TyOztzduaN4CgFy3FNqhI0eI",
      "include_colab_link": true
    },
    "kernelspec": {
      "name": "python3",
      "display_name": "Python 3"
    },
    "language_info": {
      "name": "python"
    }
  },
  "cells": [
    {
      "cell_type": "markdown",
      "metadata": {
        "id": "view-in-github",
        "colab_type": "text"
      },
      "source": [
        "<a href=\"https://colab.research.google.com/github/gimelato/curso-data-girls/blob/main/mortalidade_covid.ipynb\" target=\"_parent\"><img src=\"https://colab.research.google.com/assets/colab-badge.svg\" alt=\"Open In Colab\"/></a>"
      ]
    },
    {
      "cell_type": "markdown",
      "metadata": {
        "id": "3Qny1l7m9pTU"
      },
      "source": [
        "# Projeto para o desafio do evento (re)Start Data Science - Data Girls\n",
        "\n",
        "Escolhi trabalhar com [esta](https://www.kaggle.com/johnharshith/world-happiness-report-2021-worldwide-mortality) base de dados do Kaggle\n"
      ]
    },
    {
      "cell_type": "code",
      "metadata": {
        "id": "_Qjl5-pA8gPR"
      },
      "source": [
        "# Importando os pacotes que irei utilizar\n",
        "\n",
        "import pandas as pd\n",
        "import numpy as np\n",
        "import matplotlib.pyplot as plt\n",
        "import seaborn as sns"
      ],
      "execution_count": null,
      "outputs": []
    },
    {
      "cell_type": "code",
      "metadata": {
        "id": "Vt_BrhjSA0gp"
      },
      "source": [
        "# Carregando os dados\n",
        "\n",
        "covid = pd.read_csv(\"/content/drive/MyDrive/data_girls/desafio_final/WHRData2021.csv\")"
      ],
      "execution_count": null,
      "outputs": []
    },
    {
      "cell_type": "markdown",
      "source": [
        "Primeiro vou ver a tabela, que variáveis tem e como estão apresentadas"
      ],
      "metadata": {
        "id": "lw0MTpU8LyUw"
      }
    },
    {
      "cell_type": "code",
      "metadata": {
        "colab": {
          "base_uri": "https://localhost:8080/"
        },
        "id": "qMlYbznuB1C8",
        "outputId": "bb1ee3e0-ac31-43d3-b213-3d71a6e416f2"
      },
      "source": [
        "covid.info()"
      ],
      "execution_count": null,
      "outputs": [
        {
          "output_type": "stream",
          "name": "stdout",
          "text": [
            "<class 'pandas.core.frame.DataFrame'>\n",
            "RangeIndex: 166 entries, 0 to 165\n",
            "Data columns (total 17 columns):\n",
            " #   Column                                                                       Non-Null Count  Dtype  \n",
            "---  ------                                                                       --------------  -----  \n",
            " 0   Country name                                                                 166 non-null    object \n",
            " 1   Population 2020                                                              164 non-null    float64\n",
            " 2   Population 2019                                                              164 non-null    float64\n",
            " 3   COVID-19 deaths per 100,000 population in 2020                               163 non-null    float64\n",
            " 4   Median age                                                                   163 non-null    float64\n",
            " 5   Island                                                                       166 non-null    int64  \n",
            " 6   Index of exposure to COVID-19  infections in other countries as of March 31  164 non-null    float64\n",
            " 7   Log of average distance to SARS countries                                    164 non-null    float64\n",
            " 8   WHO Western Pacific Region                                                   166 non-null    int64  \n",
            " 9   Female head of government                                                    166 non-null    int64  \n",
            " 10  Index of institutional trust                                                 165 non-null    float64\n",
            " 11  Gini coefficient of income                                                   164 non-null    float64\n",
            " 12  All-cause death count, 2017                                                  63 non-null     float64\n",
            " 13  All-cause death count, 2018                                                  64 non-null     float64\n",
            " 14  All-cause death count, 2019                                                  64 non-null     float64\n",
            " 15  All-cause death count, 2020                                                  65 non-null     float64\n",
            " 16  Excess deaths in 2020 per 100,000 population, relative to 2017-2019 average  64 non-null     float64\n",
            "dtypes: float64(13), int64(3), object(1)\n",
            "memory usage: 22.2+ KB\n"
          ]
        }
      ]
    },
    {
      "cell_type": "code",
      "metadata": {
        "colab": {
          "base_uri": "https://localhost:8080/",
          "height": 400
        },
        "id": "GAYdY4RQAyWh",
        "outputId": "7cb128e4-ffd0-49ad-bbae-f0d5e84a6586"
      },
      "source": [
        "covid.head()"
      ],
      "execution_count": null,
      "outputs": [
        {
          "output_type": "execute_result",
          "data": {
            "text/html": [
              "<div>\n",
              "<style scoped>\n",
              "    .dataframe tbody tr th:only-of-type {\n",
              "        vertical-align: middle;\n",
              "    }\n",
              "\n",
              "    .dataframe tbody tr th {\n",
              "        vertical-align: top;\n",
              "    }\n",
              "\n",
              "    .dataframe thead th {\n",
              "        text-align: right;\n",
              "    }\n",
              "</style>\n",
              "<table border=\"1\" class=\"dataframe\">\n",
              "  <thead>\n",
              "    <tr style=\"text-align: right;\">\n",
              "      <th></th>\n",
              "      <th>Country name</th>\n",
              "      <th>Population 2020</th>\n",
              "      <th>Population 2019</th>\n",
              "      <th>COVID-19 deaths per 100,000 population in 2020</th>\n",
              "      <th>Median age</th>\n",
              "      <th>Island</th>\n",
              "      <th>Index of exposure to COVID-19  infections in other countries as of March 31</th>\n",
              "      <th>Log of average distance to SARS countries</th>\n",
              "      <th>WHO Western Pacific Region</th>\n",
              "      <th>Female head of government</th>\n",
              "      <th>Index of institutional trust</th>\n",
              "      <th>Gini coefficient of income</th>\n",
              "      <th>All-cause death count, 2017</th>\n",
              "      <th>All-cause death count, 2018</th>\n",
              "      <th>All-cause death count, 2019</th>\n",
              "      <th>All-cause death count, 2020</th>\n",
              "      <th>Excess deaths in 2020 per 100,000 population, relative to 2017-2019 average</th>\n",
              "    </tr>\n",
              "  </thead>\n",
              "  <tbody>\n",
              "    <tr>\n",
              "      <th>0</th>\n",
              "      <td>United States</td>\n",
              "      <td>331002647.0</td>\n",
              "      <td>328239523.0</td>\n",
              "      <td>104.451</td>\n",
              "      <td>38.3</td>\n",
              "      <td>0</td>\n",
              "      <td>1.688</td>\n",
              "      <td>9.315</td>\n",
              "      <td>0</td>\n",
              "      <td>0</td>\n",
              "      <td>0.250</td>\n",
              "      <td>47.51</td>\n",
              "      <td>2810927.0</td>\n",
              "      <td>2839076.0</td>\n",
              "      <td>2852747.0</td>\n",
              "      <td>3424996.0</td>\n",
              "      <td>179.22</td>\n",
              "    </tr>\n",
              "    <tr>\n",
              "      <th>1</th>\n",
              "      <td>Egypt</td>\n",
              "      <td>102334403.0</td>\n",
              "      <td>100388073.0</td>\n",
              "      <td>7.457</td>\n",
              "      <td>25.3</td>\n",
              "      <td>0</td>\n",
              "      <td>1.627</td>\n",
              "      <td>9.007</td>\n",
              "      <td>0</td>\n",
              "      <td>0</td>\n",
              "      <td>0.446</td>\n",
              "      <td>31.56</td>\n",
              "      <td>NaN</td>\n",
              "      <td>NaN</td>\n",
              "      <td>NaN</td>\n",
              "      <td>NaN</td>\n",
              "      <td>NaN</td>\n",
              "    </tr>\n",
              "    <tr>\n",
              "      <th>2</th>\n",
              "      <td>Morocco</td>\n",
              "      <td>36910558.0</td>\n",
              "      <td>36471769.0</td>\n",
              "      <td>20.016</td>\n",
              "      <td>29.6</td>\n",
              "      <td>0</td>\n",
              "      <td>2.336</td>\n",
              "      <td>9.226</td>\n",
              "      <td>0</td>\n",
              "      <td>0</td>\n",
              "      <td>0.397</td>\n",
              "      <td>39.55</td>\n",
              "      <td>NaN</td>\n",
              "      <td>NaN</td>\n",
              "      <td>NaN</td>\n",
              "      <td>NaN</td>\n",
              "      <td>NaN</td>\n",
              "    </tr>\n",
              "    <tr>\n",
              "      <th>3</th>\n",
              "      <td>Lebanon</td>\n",
              "      <td>6825442.0</td>\n",
              "      <td>6855713.0</td>\n",
              "      <td>21.508</td>\n",
              "      <td>31.1</td>\n",
              "      <td>0</td>\n",
              "      <td>1.891</td>\n",
              "      <td>8.956</td>\n",
              "      <td>0</td>\n",
              "      <td>0</td>\n",
              "      <td>0.107</td>\n",
              "      <td>31.83</td>\n",
              "      <td>NaN</td>\n",
              "      <td>NaN</td>\n",
              "      <td>NaN</td>\n",
              "      <td>NaN</td>\n",
              "      <td>NaN</td>\n",
              "    </tr>\n",
              "    <tr>\n",
              "      <th>4</th>\n",
              "      <td>Saudi Arabia</td>\n",
              "      <td>34813867.0</td>\n",
              "      <td>34268528.0</td>\n",
              "      <td>17.875</td>\n",
              "      <td>31.9</td>\n",
              "      <td>0</td>\n",
              "      <td>1.250</td>\n",
              "      <td>8.897</td>\n",
              "      <td>0</td>\n",
              "      <td>0</td>\n",
              "      <td>0.651</td>\n",
              "      <td>45.90</td>\n",
              "      <td>NaN</td>\n",
              "      <td>NaN</td>\n",
              "      <td>NaN</td>\n",
              "      <td>NaN</td>\n",
              "      <td>NaN</td>\n",
              "    </tr>\n",
              "  </tbody>\n",
              "</table>\n",
              "</div>"
            ],
            "text/plain": [
              "    Country name  ...  Excess deaths in 2020 per 100,000 population, relative to 2017-2019 average\n",
              "0  United States  ...                                             179.22                          \n",
              "1          Egypt  ...                                                NaN                          \n",
              "2        Morocco  ...                                                NaN                          \n",
              "3        Lebanon  ...                                                NaN                          \n",
              "4   Saudi Arabia  ...                                                NaN                          \n",
              "\n",
              "[5 rows x 17 columns]"
            ]
          },
          "metadata": {},
          "execution_count": 4
        }
      ]
    },
    {
      "cell_type": "markdown",
      "source": [
        "Agora vou começar a tratar esses dados"
      ],
      "metadata": {
        "id": "zyVB7MobL_QU"
      }
    },
    {
      "cell_type": "code",
      "metadata": {
        "id": "gL2FGF5W0qYH"
      },
      "source": [
        "# Selecionando colunas de interesse\n",
        "\n",
        "covid.drop(['All-cause death count, 2017', 'All-cause death count, 2018', 'All-cause death count, 2019', 'All-cause death count, 2020', 'Excess deaths in 2020 per 100,000 population, relative to 2017-2019 average'], axis='columns', inplace = True)"
      ],
      "execution_count": null,
      "outputs": []
    },
    {
      "cell_type": "code",
      "metadata": {
        "colab": {
          "base_uri": "https://localhost:8080/",
          "height": 467
        },
        "id": "ItKTuWCg3RGt",
        "outputId": "ed597946-46da-4b9e-b7b6-2fdcebcae93b"
      },
      "source": [
        "covid.head(10)"
      ],
      "execution_count": null,
      "outputs": [
        {
          "output_type": "execute_result",
          "data": {
            "text/html": [
              "<div>\n",
              "<style scoped>\n",
              "    .dataframe tbody tr th:only-of-type {\n",
              "        vertical-align: middle;\n",
              "    }\n",
              "\n",
              "    .dataframe tbody tr th {\n",
              "        vertical-align: top;\n",
              "    }\n",
              "\n",
              "    .dataframe thead th {\n",
              "        text-align: right;\n",
              "    }\n",
              "</style>\n",
              "<table border=\"1\" class=\"dataframe\">\n",
              "  <thead>\n",
              "    <tr style=\"text-align: right;\">\n",
              "      <th></th>\n",
              "      <th>Country name</th>\n",
              "      <th>Population 2020</th>\n",
              "      <th>Population 2019</th>\n",
              "      <th>COVID-19 deaths per 100,000 population in 2020</th>\n",
              "      <th>Median age</th>\n",
              "      <th>Island</th>\n",
              "      <th>Index of exposure to COVID-19  infections in other countries as of March 31</th>\n",
              "      <th>Log of average distance to SARS countries</th>\n",
              "      <th>WHO Western Pacific Region</th>\n",
              "      <th>Female head of government</th>\n",
              "      <th>Index of institutional trust</th>\n",
              "      <th>Gini coefficient of income</th>\n",
              "    </tr>\n",
              "  </thead>\n",
              "  <tbody>\n",
              "    <tr>\n",
              "      <th>0</th>\n",
              "      <td>United States</td>\n",
              "      <td>331002647.0</td>\n",
              "      <td>328239523.0</td>\n",
              "      <td>104.451</td>\n",
              "      <td>38.3</td>\n",
              "      <td>0</td>\n",
              "      <td>1.688</td>\n",
              "      <td>9.315</td>\n",
              "      <td>0</td>\n",
              "      <td>0</td>\n",
              "      <td>0.250</td>\n",
              "      <td>47.510</td>\n",
              "    </tr>\n",
              "    <tr>\n",
              "      <th>1</th>\n",
              "      <td>Egypt</td>\n",
              "      <td>102334403.0</td>\n",
              "      <td>100388073.0</td>\n",
              "      <td>7.457</td>\n",
              "      <td>25.3</td>\n",
              "      <td>0</td>\n",
              "      <td>1.627</td>\n",
              "      <td>9.007</td>\n",
              "      <td>0</td>\n",
              "      <td>0</td>\n",
              "      <td>0.446</td>\n",
              "      <td>31.560</td>\n",
              "    </tr>\n",
              "    <tr>\n",
              "      <th>2</th>\n",
              "      <td>Morocco</td>\n",
              "      <td>36910558.0</td>\n",
              "      <td>36471769.0</td>\n",
              "      <td>20.016</td>\n",
              "      <td>29.6</td>\n",
              "      <td>0</td>\n",
              "      <td>2.336</td>\n",
              "      <td>9.226</td>\n",
              "      <td>0</td>\n",
              "      <td>0</td>\n",
              "      <td>0.397</td>\n",
              "      <td>39.550</td>\n",
              "    </tr>\n",
              "    <tr>\n",
              "      <th>3</th>\n",
              "      <td>Lebanon</td>\n",
              "      <td>6825442.0</td>\n",
              "      <td>6855713.0</td>\n",
              "      <td>21.508</td>\n",
              "      <td>31.1</td>\n",
              "      <td>0</td>\n",
              "      <td>1.891</td>\n",
              "      <td>8.956</td>\n",
              "      <td>0</td>\n",
              "      <td>0</td>\n",
              "      <td>0.107</td>\n",
              "      <td>31.830</td>\n",
              "    </tr>\n",
              "    <tr>\n",
              "      <th>4</th>\n",
              "      <td>Saudi Arabia</td>\n",
              "      <td>34813867.0</td>\n",
              "      <td>34268528.0</td>\n",
              "      <td>17.875</td>\n",
              "      <td>31.9</td>\n",
              "      <td>0</td>\n",
              "      <td>1.250</td>\n",
              "      <td>8.897</td>\n",
              "      <td>0</td>\n",
              "      <td>0</td>\n",
              "      <td>0.651</td>\n",
              "      <td>45.900</td>\n",
              "    </tr>\n",
              "    <tr>\n",
              "      <th>5</th>\n",
              "      <td>Jordan</td>\n",
              "      <td>10203140.0</td>\n",
              "      <td>10101694.0</td>\n",
              "      <td>37.577</td>\n",
              "      <td>23.2</td>\n",
              "      <td>0</td>\n",
              "      <td>1.895</td>\n",
              "      <td>8.961</td>\n",
              "      <td>0</td>\n",
              "      <td>0</td>\n",
              "      <td>0.465</td>\n",
              "      <td>33.100</td>\n",
              "    </tr>\n",
              "    <tr>\n",
              "      <th>6</th>\n",
              "      <td>Syria</td>\n",
              "      <td>17500657.0</td>\n",
              "      <td>17070135.0</td>\n",
              "      <td>4.063</td>\n",
              "      <td>21.7</td>\n",
              "      <td>0</td>\n",
              "      <td>1.814</td>\n",
              "      <td>8.951</td>\n",
              "      <td>0</td>\n",
              "      <td>0</td>\n",
              "      <td>0.319</td>\n",
              "      <td>34.200</td>\n",
              "    </tr>\n",
              "    <tr>\n",
              "      <th>7</th>\n",
              "      <td>Turkey</td>\n",
              "      <td>84339067.0</td>\n",
              "      <td>83429615.0</td>\n",
              "      <td>24.758</td>\n",
              "      <td>31.6</td>\n",
              "      <td>0</td>\n",
              "      <td>2.067</td>\n",
              "      <td>8.952</td>\n",
              "      <td>0</td>\n",
              "      <td>0</td>\n",
              "      <td>0.295</td>\n",
              "      <td>40.550</td>\n",
              "    </tr>\n",
              "    <tr>\n",
              "      <th>8</th>\n",
              "      <td>Pakistan</td>\n",
              "      <td>220892331.0</td>\n",
              "      <td>216565318.0</td>\n",
              "      <td>4.607</td>\n",
              "      <td>23.5</td>\n",
              "      <td>0</td>\n",
              "      <td>1.048</td>\n",
              "      <td>8.577</td>\n",
              "      <td>0</td>\n",
              "      <td>0</td>\n",
              "      <td>0.277</td>\n",
              "      <td>33.450</td>\n",
              "    </tr>\n",
              "    <tr>\n",
              "      <th>9</th>\n",
              "      <td>Indonesia</td>\n",
              "      <td>273523621.0</td>\n",
              "      <td>270625568.0</td>\n",
              "      <td>8.094</td>\n",
              "      <td>29.3</td>\n",
              "      <td>1</td>\n",
              "      <td>0.576</td>\n",
              "      <td>8.578</td>\n",
              "      <td>0</td>\n",
              "      <td>0</td>\n",
              "      <td>0.561</td>\n",
              "      <td>37.478</td>\n",
              "    </tr>\n",
              "  </tbody>\n",
              "</table>\n",
              "</div>"
            ],
            "text/plain": [
              "    Country name  ...  Gini coefficient of income\n",
              "0  United States  ...                      47.510\n",
              "1          Egypt  ...                      31.560\n",
              "2        Morocco  ...                      39.550\n",
              "3        Lebanon  ...                      31.830\n",
              "4   Saudi Arabia  ...                      45.900\n",
              "5         Jordan  ...                      33.100\n",
              "6          Syria  ...                      34.200\n",
              "7         Turkey  ...                      40.550\n",
              "8       Pakistan  ...                      33.450\n",
              "9      Indonesia  ...                      37.478\n",
              "\n",
              "[10 rows x 12 columns]"
            ]
          },
          "metadata": {},
          "execution_count": 6
        }
      ]
    },
    {
      "cell_type": "markdown",
      "metadata": {
        "id": "vKIkCshuPZAU"
      },
      "source": [
        "Descrevendo as colunas selecionadas\n",
        "\n",
        "*   País\n",
        "*   População em 2020\n",
        "*   População em 2019\n",
        "*   Mortes por covid a cada 100.000 pessoas em 2020\n",
        "*   Idade média da população\n",
        "*   O país é uma ilha?\n",
        "*   Índice de exposição ao covid em outros países a partir de 31 de março\n",
        "*   Distância em log aos países endêmicos de SARS\n",
        "*   Se o país pertence à região pacífica ocidental da OMS\n",
        "*   Se o país tem uma mulher como governante\n",
        "*   Índice de confiança da população no governo (quanto maior o índice maior a confiança)\n",
        "*   Coeficiente Gini de renda (quanto menor o valor mais igualitária a distribuição de renda no país)\n",
        "\n",
        "\n",
        "\n",
        "\n",
        "\n",
        "\n",
        "\n",
        "\n",
        "\n",
        "\n",
        "\n",
        "\n"
      ]
    },
    {
      "cell_type": "code",
      "metadata": {
        "id": "Vn58tfQL4nlr"
      },
      "source": [
        "# renomeando as colunas para ficar mais fácil de trabalhar\n",
        "\n",
        "covid.rename(columns={'Country name':'pais','Population 2020': 'pop_2020', 'Population 2019':'pop_2019','COVID-19 deaths per 100,000 population in 2020':'mortes',\n",
        "                      'Median age':'idade', 'Island':'ilha', 'Index of exposure to COVID-19  infections in other countries as of March 31':'exp_covid',\n",
        "                      'Log of average distance to SARS countries':'dist_sars', 'WHO Western Pacific Region':'pacifico_ocidental',\n",
        "                      'Female head of government':'mulher', 'Index of institutional trust':'confianca_inst', 'Gini coefficient of income':'gini'}, inplace = True)"
      ],
      "execution_count": null,
      "outputs": []
    },
    {
      "cell_type": "code",
      "metadata": {
        "colab": {
          "base_uri": "https://localhost:8080/"
        },
        "id": "HKtXAHVd5UfG",
        "outputId": "804ccedc-d882-442d-a419-22726a7b2276"
      },
      "source": [
        "covid.info()"
      ],
      "execution_count": null,
      "outputs": [
        {
          "output_type": "stream",
          "name": "stdout",
          "text": [
            "<class 'pandas.core.frame.DataFrame'>\n",
            "RangeIndex: 166 entries, 0 to 165\n",
            "Data columns (total 12 columns):\n",
            " #   Column              Non-Null Count  Dtype  \n",
            "---  ------              --------------  -----  \n",
            " 0   pais                166 non-null    object \n",
            " 1   pop_2020            164 non-null    float64\n",
            " 2   pop_2019            164 non-null    float64\n",
            " 3   mortes              163 non-null    float64\n",
            " 4   idade               163 non-null    float64\n",
            " 5   ilha                166 non-null    int64  \n",
            " 6   exp_covid           164 non-null    float64\n",
            " 7   dist_sars           164 non-null    float64\n",
            " 8   pacifico_ocidental  166 non-null    int64  \n",
            " 9   mulher              166 non-null    int64  \n",
            " 10  confianca_inst      165 non-null    float64\n",
            " 11  gini                164 non-null    float64\n",
            "dtypes: float64(8), int64(3), object(1)\n",
            "memory usage: 15.7+ KB\n"
          ]
        }
      ]
    },
    {
      "cell_type": "code",
      "metadata": {
        "id": "5QoXuIVVE8OB"
      },
      "source": [
        "# Transformando as colunas de 0 e 1 em booleano\n",
        "covid['ilha'] = covid['ilha'].astype('bool')\n",
        "covid['pacifico_ocidental'] = covid['pacifico_ocidental'].astype('bool')\n",
        "covid['mulher'] = covid['mulher'].astype('bool')\n"
      ],
      "execution_count": null,
      "outputs": []
    },
    {
      "cell_type": "code",
      "metadata": {
        "colab": {
          "base_uri": "https://localhost:8080/"
        },
        "id": "uvGF7qbX4QNo",
        "outputId": "c8ddd29b-b9b0-4327-864c-ae2adeea3261"
      },
      "source": [
        "# Procurando valores faltantes\n",
        "covid.isnull().sum()"
      ],
      "execution_count": null,
      "outputs": [
        {
          "output_type": "execute_result",
          "data": {
            "text/plain": [
              "pais                  0\n",
              "pop_2020              2\n",
              "pop_2019              2\n",
              "mortes                3\n",
              "idade                 3\n",
              "ilha                  0\n",
              "exp_covid             2\n",
              "dist_sars             2\n",
              "pacifico_ocidental    0\n",
              "mulher                0\n",
              "confianca_inst        1\n",
              "gini                  2\n",
              "dtype: int64"
            ]
          },
          "metadata": {},
          "execution_count": 6
        }
      ]
    },
    {
      "cell_type": "code",
      "metadata": {
        "colab": {
          "base_uri": "https://localhost:8080/",
          "height": 143
        },
        "id": "hpy763tldPKD",
        "outputId": "937c91ee-70b6-463d-e7e4-6b0f758476d8"
      },
      "source": [
        "#Procurando os países com valores nulos\n",
        "covid.query(\"mortes == 'NaN'\")\n",
        "\n",
        "#Esses 3 países têm todos os valores nulos da tabela.\n",
        "#Escolho retirar eles para não influenciarem nas análises, principalmente pela falta de número de mortes"
      ],
      "execution_count": null,
      "outputs": [
        {
          "output_type": "execute_result",
          "data": {
            "text/html": [
              "<div>\n",
              "<style scoped>\n",
              "    .dataframe tbody tr th:only-of-type {\n",
              "        vertical-align: middle;\n",
              "    }\n",
              "\n",
              "    .dataframe tbody tr th {\n",
              "        vertical-align: top;\n",
              "    }\n",
              "\n",
              "    .dataframe thead th {\n",
              "        text-align: right;\n",
              "    }\n",
              "</style>\n",
              "<table border=\"1\" class=\"dataframe\">\n",
              "  <thead>\n",
              "    <tr style=\"text-align: right;\">\n",
              "      <th></th>\n",
              "      <th>pais</th>\n",
              "      <th>pop_2020</th>\n",
              "      <th>pop_2019</th>\n",
              "      <th>mortes</th>\n",
              "      <th>idade</th>\n",
              "      <th>ilha</th>\n",
              "      <th>exp_covid</th>\n",
              "      <th>dist_sars</th>\n",
              "      <th>pacifico_ocidental</th>\n",
              "      <th>mulher</th>\n",
              "      <th>confianca_inst</th>\n",
              "      <th>gini</th>\n",
              "    </tr>\n",
              "  </thead>\n",
              "  <tbody>\n",
              "    <tr>\n",
              "      <th>157</th>\n",
              "      <td>Turkmenistan</td>\n",
              "      <td>5942089.0</td>\n",
              "      <td>5942089.0</td>\n",
              "      <td>NaN</td>\n",
              "      <td>NaN</td>\n",
              "      <td>False</td>\n",
              "      <td>1.463</td>\n",
              "      <td>8.735</td>\n",
              "      <td>False</td>\n",
              "      <td>False</td>\n",
              "      <td>0.511</td>\n",
              "      <td>26.5</td>\n",
              "    </tr>\n",
              "    <tr>\n",
              "      <th>163</th>\n",
              "      <td>Somaliland region</td>\n",
              "      <td>NaN</td>\n",
              "      <td>NaN</td>\n",
              "      <td>NaN</td>\n",
              "      <td>NaN</td>\n",
              "      <td>False</td>\n",
              "      <td>NaN</td>\n",
              "      <td>NaN</td>\n",
              "      <td>False</td>\n",
              "      <td>False</td>\n",
              "      <td>NaN</td>\n",
              "      <td>NaN</td>\n",
              "    </tr>\n",
              "    <tr>\n",
              "      <th>164</th>\n",
              "      <td>North Cyprus</td>\n",
              "      <td>NaN</td>\n",
              "      <td>NaN</td>\n",
              "      <td>NaN</td>\n",
              "      <td>NaN</td>\n",
              "      <td>False</td>\n",
              "      <td>NaN</td>\n",
              "      <td>NaN</td>\n",
              "      <td>False</td>\n",
              "      <td>False</td>\n",
              "      <td>0.305</td>\n",
              "      <td>NaN</td>\n",
              "    </tr>\n",
              "  </tbody>\n",
              "</table>\n",
              "</div>"
            ],
            "text/plain": [
              "                  pais   pop_2020   pop_2019  ...  mulher  confianca_inst  gini\n",
              "157       Turkmenistan  5942089.0  5942089.0  ...   False           0.511  26.5\n",
              "163  Somaliland region        NaN        NaN  ...   False             NaN   NaN\n",
              "164       North Cyprus        NaN        NaN  ...   False           0.305   NaN\n",
              "\n",
              "[3 rows x 12 columns]"
            ]
          },
          "metadata": {},
          "execution_count": 7
        }
      ]
    },
    {
      "cell_type": "code",
      "metadata": {
        "id": "en_8Gc-dfIpu"
      },
      "source": [
        "# removendo as linhas que têm valores nulos\n",
        "covid.dropna(inplace=True)"
      ],
      "execution_count": null,
      "outputs": []
    },
    {
      "cell_type": "code",
      "metadata": {
        "colab": {
          "base_uri": "https://localhost:8080/"
        },
        "id": "L0py57UNf9Se",
        "outputId": "c82de3e9-b680-4a07-ea60-0337cbf074b2"
      },
      "source": [
        "covid.info()"
      ],
      "execution_count": null,
      "outputs": [
        {
          "output_type": "stream",
          "name": "stdout",
          "text": [
            "<class 'pandas.core.frame.DataFrame'>\n",
            "Int64Index: 163 entries, 0 to 165\n",
            "Data columns (total 12 columns):\n",
            " #   Column              Non-Null Count  Dtype  \n",
            "---  ------              --------------  -----  \n",
            " 0   pais                163 non-null    object \n",
            " 1   pop_2020            163 non-null    float64\n",
            " 2   pop_2019            163 non-null    float64\n",
            " 3   mortes              163 non-null    float64\n",
            " 4   idade               163 non-null    float64\n",
            " 5   ilha                163 non-null    bool   \n",
            " 6   exp_covid           163 non-null    float64\n",
            " 7   dist_sars           163 non-null    float64\n",
            " 8   pacifico_ocidental  163 non-null    bool   \n",
            " 9   mulher              163 non-null    bool   \n",
            " 10  confianca_inst      163 non-null    float64\n",
            " 11  gini                163 non-null    float64\n",
            "dtypes: bool(3), float64(8), object(1)\n",
            "memory usage: 13.2+ KB\n"
          ]
        }
      ]
    },
    {
      "cell_type": "code",
      "metadata": {
        "id": "s8nfuUdjgIHz"
      },
      "source": [
        "# mudando o index das linhas para ficar contínuo\n",
        "covid.index = list(range(163))\n"
      ],
      "execution_count": null,
      "outputs": []
    },
    {
      "cell_type": "markdown",
      "source": [
        "Agora vou fazer uma breve análise estatística de como meus dados estão distribuídos"
      ],
      "metadata": {
        "id": "3uG5rkFXMYik"
      }
    },
    {
      "cell_type": "code",
      "metadata": {
        "colab": {
          "base_uri": "https://localhost:8080/",
          "height": 300
        },
        "id": "DRW4Hv4XNbKi",
        "outputId": "9ab2a697-a023-4c45-ea9c-fd15e637b0e1"
      },
      "source": [
        "# vendo a estatística geral dos dados\n",
        "covid.describe()"
      ],
      "execution_count": null,
      "outputs": [
        {
          "output_type": "execute_result",
          "data": {
            "text/html": [
              "<div>\n",
              "<style scoped>\n",
              "    .dataframe tbody tr th:only-of-type {\n",
              "        vertical-align: middle;\n",
              "    }\n",
              "\n",
              "    .dataframe tbody tr th {\n",
              "        vertical-align: top;\n",
              "    }\n",
              "\n",
              "    .dataframe thead th {\n",
              "        text-align: right;\n",
              "    }\n",
              "</style>\n",
              "<table border=\"1\" class=\"dataframe\">\n",
              "  <thead>\n",
              "    <tr style=\"text-align: right;\">\n",
              "      <th></th>\n",
              "      <th>pop_2020</th>\n",
              "      <th>pop_2019</th>\n",
              "      <th>mortes</th>\n",
              "      <th>idade</th>\n",
              "      <th>exp_covid</th>\n",
              "      <th>dist_sars</th>\n",
              "      <th>confianca_inst</th>\n",
              "      <th>gini</th>\n",
              "    </tr>\n",
              "  </thead>\n",
              "  <tbody>\n",
              "    <tr>\n",
              "      <th>count</th>\n",
              "      <td>1.630000e+02</td>\n",
              "      <td>1.630000e+02</td>\n",
              "      <td>163.000000</td>\n",
              "      <td>163.000000</td>\n",
              "      <td>163.000000</td>\n",
              "      <td>163.000000</td>\n",
              "      <td>163.000000</td>\n",
              "      <td>163.000000</td>\n",
              "    </tr>\n",
              "    <tr>\n",
              "      <th>mean</th>\n",
              "      <td>4.743424e+07</td>\n",
              "      <td>4.671117e+07</td>\n",
              "      <td>30.704018</td>\n",
              "      <td>30.667485</td>\n",
              "      <td>1.675810</td>\n",
              "      <td>9.057534</td>\n",
              "      <td>0.315724</td>\n",
              "      <td>37.956356</td>\n",
              "    </tr>\n",
              "    <tr>\n",
              "      <th>std</th>\n",
              "      <td>1.603294e+08</td>\n",
              "      <td>1.572632e+08</td>\n",
              "      <td>38.194215</td>\n",
              "      <td>9.332182</td>\n",
              "      <td>1.304417</td>\n",
              "      <td>0.376623</td>\n",
              "      <td>0.173426</td>\n",
              "      <td>8.277320</td>\n",
              "    </tr>\n",
              "    <tr>\n",
              "      <th>min</th>\n",
              "      <td>3.412500e+05</td>\n",
              "      <td>3.613130e+05</td>\n",
              "      <td>0.000000</td>\n",
              "      <td>15.100000</td>\n",
              "      <td>0.379000</td>\n",
              "      <td>8.044000</td>\n",
              "      <td>0.046000</td>\n",
              "      <td>23.200000</td>\n",
              "    </tr>\n",
              "    <tr>\n",
              "      <th>25%</th>\n",
              "      <td>4.825998e+06</td>\n",
              "      <td>4.715246e+06</td>\n",
              "      <td>1.680500</td>\n",
              "      <td>21.850000</td>\n",
              "      <td>0.818500</td>\n",
              "      <td>8.929500</td>\n",
              "      <td>0.187500</td>\n",
              "      <td>32.325000</td>\n",
              "    </tr>\n",
              "    <tr>\n",
              "      <th>50%</th>\n",
              "      <td>1.132662e+07</td>\n",
              "      <td>1.126308e+07</td>\n",
              "      <td>10.125000</td>\n",
              "      <td>29.700000</td>\n",
              "      <td>1.076000</td>\n",
              "      <td>9.070000</td>\n",
              "      <td>0.286000</td>\n",
              "      <td>37.343000</td>\n",
              "    </tr>\n",
              "    <tr>\n",
              "      <th>75%</th>\n",
              "      <td>3.414153e+07</td>\n",
              "      <td>3.392459e+07</td>\n",
              "      <td>46.802500</td>\n",
              "      <td>39.350000</td>\n",
              "      <td>2.237500</td>\n",
              "      <td>9.311000</td>\n",
              "      <td>0.413000</td>\n",
              "      <td>43.850000</td>\n",
              "    </tr>\n",
              "    <tr>\n",
              "      <th>max</th>\n",
              "      <td>1.439324e+09</td>\n",
              "      <td>1.397715e+09</td>\n",
              "      <td>168.496000</td>\n",
              "      <td>48.200000</td>\n",
              "      <td>6.343000</td>\n",
              "      <td>9.726000</td>\n",
              "      <td>0.906000</td>\n",
              "      <td>65.426000</td>\n",
              "    </tr>\n",
              "  </tbody>\n",
              "</table>\n",
              "</div>"
            ],
            "text/plain": [
              "           pop_2020      pop_2019  ...  confianca_inst        gini\n",
              "count  1.630000e+02  1.630000e+02  ...      163.000000  163.000000\n",
              "mean   4.743424e+07  4.671117e+07  ...        0.315724   37.956356\n",
              "std    1.603294e+08  1.572632e+08  ...        0.173426    8.277320\n",
              "min    3.412500e+05  3.613130e+05  ...        0.046000   23.200000\n",
              "25%    4.825998e+06  4.715246e+06  ...        0.187500   32.325000\n",
              "50%    1.132662e+07  1.126308e+07  ...        0.286000   37.343000\n",
              "75%    3.414153e+07  3.392459e+07  ...        0.413000   43.850000\n",
              "max    1.439324e+09  1.397715e+09  ...        0.906000   65.426000\n",
              "\n",
              "[8 rows x 8 columns]"
            ]
          },
          "metadata": {},
          "execution_count": 10
        }
      ]
    },
    {
      "cell_type": "markdown",
      "source": [
        "Nestes dados meu interesse de comparação é o desempenho de um país frente à pandemia, então quero ver como as variáveis se relacionam principalmente com o número de mortes e depois com a exposição ao covid em outros países. Olhando para a discrepância entre a média e a mediana (50%) do número de mortes, me parece que a distribuição é não paramétrica. Analisando a distribuição da exposição ao covid e também comparando os valores de média e mediana, também me parece não ser paramétrica. Ou seja, não posso considerar normalidade dos dados quando for compará-los estatisticamente."
      ],
      "metadata": {
        "id": "GHW4PkpP6l2V"
      }
    },
    {
      "cell_type": "code",
      "source": [
        "# Fiz um histograma para ver como o número de mortes está distribuído. A curva apresenta uma assimetria positiva\n",
        "covid['mortes'].hist(bins=50);"
      ],
      "metadata": {
        "colab": {
          "base_uri": "https://localhost:8080/",
          "height": 266
        },
        "id": "iJnpsGX3kQvk",
        "outputId": "e5fc944b-0747-4d9d-9ac9-dd35617e0f81"
      },
      "execution_count": null,
      "outputs": [
        {
          "output_type": "display_data",
          "data": {
            "image/png": "[encoded data removed]",
            "text/plain": [
              "<Figure size 432x288 with 1 Axes>"
            ]
          },
          "metadata": {
            "needs_background": "light"
          }
        }
      ]
    },
    {
      "cell_type": "code",
      "source": [
        "# Olhando para a curva da exposição. A curva também apresenta uma assimetria positiva\n",
        "covid['exp_covid'].hist(bins=50);"
      ],
      "metadata": {
        "colab": {
          "base_uri": "https://localhost:8080/",
          "height": 265
        },
        "id": "a2QzqZRx6wDK",
        "outputId": "62c857fe-b906-4b42-9803-2a29a9a5710d"
      },
      "execution_count": null,
      "outputs": [
        {
          "output_type": "display_data",
          "data": {
            "image/png": "[encoded data removed]",
            "text/plain": [
              "<Figure size 432x288 with 1 Axes>"
            ]
          },
          "metadata": {
            "needs_background": "light"
          }
        }
      ]
    },
    {
      "cell_type": "code",
      "source": [
        "#calculando as medianas de mortes e exposição ao covid agrupadamente para ilha\n",
        "\n",
        "covid.groupby('ilha')[['mortes', 'exp_covid']].median()"
      ],
      "metadata": {
        "colab": {
          "base_uri": "https://localhost:8080/",
          "height": 143
        },
        "id": "aXC1-n6XFc0j",
        "outputId": "e9f62a14-dcc1-401c-d35c-5d3aec2e29f7"
      },
      "execution_count": null,
      "outputs": [
        {
          "output_type": "execute_result",
          "data": {
            "text/html": [
              "<div>\n",
              "<style scoped>\n",
              "    .dataframe tbody tr th:only-of-type {\n",
              "        vertical-align: middle;\n",
              "    }\n",
              "\n",
              "    .dataframe tbody tr th {\n",
              "        vertical-align: top;\n",
              "    }\n",
              "\n",
              "    .dataframe thead th {\n",
              "        text-align: right;\n",
              "    }\n",
              "</style>\n",
              "<table border=\"1\" class=\"dataframe\">\n",
              "  <thead>\n",
              "    <tr style=\"text-align: right;\">\n",
              "      <th></th>\n",
              "      <th>mortes</th>\n",
              "      <th>exp_covid</th>\n",
              "    </tr>\n",
              "    <tr>\n",
              "      <th>ilha</th>\n",
              "      <th></th>\n",
              "      <th></th>\n",
              "    </tr>\n",
              "  </thead>\n",
              "  <tbody>\n",
              "    <tr>\n",
              "      <th>False</th>\n",
              "      <td>17.263</td>\n",
              "      <td>1.0770</td>\n",
              "    </tr>\n",
              "    <tr>\n",
              "      <th>True</th>\n",
              "      <td>8.265</td>\n",
              "      <td>0.9745</td>\n",
              "    </tr>\n",
              "  </tbody>\n",
              "</table>\n",
              "</div>"
            ],
            "text/plain": [
              "       mortes  exp_covid\n",
              "ilha                    \n",
              "False  17.263     1.0770\n",
              "True    8.265     0.9745"
            ]
          },
          "metadata": {},
          "execution_count": 13
        }
      ]
    },
    {
      "cell_type": "code",
      "source": [
        "# boxplot comparando as distribuições do número de mortes entre os países que são ilha e os que não são\n",
        "\n",
        "plt.figure(figsize = (10,8))\n",
        "sns.boxplot(x = 'ilha', y = 'mortes', data = covid);"
      ],
      "metadata": {
        "colab": {
          "base_uri": "https://localhost:8080/",
          "height": 502
        },
        "id": "ihyIymhG4vQe",
        "outputId": "91201e30-ab4b-491d-f956-ce71b299698c"
      },
      "execution_count": null,
      "outputs": [
        {
          "output_type": "display_data",
          "data": {
            "image/png": "[encoded data removed]",
            "text/plain": [
              "<Figure size 720x576 with 1 Axes>"
            ]
          },
          "metadata": {}
        }
      ]
    },
    {
      "cell_type": "code",
      "source": [
        "pip install statannot"
      ],
      "metadata": {
        "colab": {
          "base_uri": "https://localhost:8080/"
        },
        "id": "guaahYb5ofpE",
        "outputId": "2a8c5fa6-6f82-44b3-bc85-4bcd30bc7058"
      },
      "execution_count": null,
      "outputs": [
        {
          "output_type": "stream",
          "name": "stdout",
          "text": [
            "Requirement already satisfied: statannot in /usr/local/lib/python3.7/dist-packages (0.2.3)\n"
          ]
        }
      ]
    },
    {
      "cell_type": "code",
      "source": [
        "# Eu tentei associar ao gráfico um teste estatístico para comparar as duas distribuições. Aí tive um problema que não consegui resolver:\n",
        "# meu p valor deu absurdamente baixo e não acho que seja o caso da minha amostra. Não confio nesse valor e não entendi porque deu errado\n",
        "\n",
        "from statannot import add_stat_annotation\n",
        "\n",
        "sns.set(style=\"whitegrid\")\n",
        "\n",
        "x = \"ilha\"\n",
        "y = \"mortes\"\n",
        "order = ['False', 'True']\n",
        "ax = sns.boxplot(data=covid, x=x, y=y, order=None)\n",
        "add_stat_annotation(ax, data=covid, x=x, y=y, order=order,\n",
        "                    box_pairs=[('False', 'True')],\n",
        "                    test='Mann-Whitney', text_format='star', loc='outside', verbose=2)"
      ],
      "metadata": {
        "colab": {
          "base_uri": "https://localhost:8080/",
          "height": 518
        },
        "id": "oxZr0t8x42AP",
        "outputId": "a0454037-9903-494c-d184-e097fc404314"
      },
      "execution_count": null,
      "outputs": [
        {
          "output_type": "stream",
          "name": "stdout",
          "text": [
            "p-value annotation legend:\n",
            "ns: 5.00e-02 < p <= 1.00e+00\n",
            "*: 1.00e-02 < p <= 5.00e-02\n",
            "**: 1.00e-03 < p <= 1.00e-02\n",
            "***: 1.00e-04 < p <= 1.00e-03\n",
            "****: p <= 1.00e-04\n",
            "\n",
            "False v.s. True: Mann-Whitney-Wilcoxon test two-sided with Bonferroni correction, P_val=0.000e+00 U_stat=0.000e+00\n"
          ]
        },
        {
          "output_type": "stream",
          "name": "stderr",
          "text": [
            "/usr/local/lib/python3.7/dist-packages/scipy/stats/stats.py:6415: RuntimeWarning: divide by zero encountered in double_scalars\n",
            "  z = (bigu - meanrank) / sd\n"
          ]
        },
        {
          "output_type": "execute_result",
          "data": {
            "text/plain": [
              "(<matplotlib.axes._subplots.AxesSubplot at 0x7f8f5d5a39d0>,\n",
              " [<statannot.StatResult.StatResult at 0x7f8f5d61b110>])"
            ]
          },
          "metadata": {},
          "execution_count": 89
        },
        {
          "output_type": "display_data",
          "data": {
            "image/png": "[encoded data removed]",
            "text/plain": [
              "<Figure size 432x288 with 1 Axes>"
            ]
          },
          "metadata": {}
        }
      ]
    },
    {
      "cell_type": "code",
      "source": [
        "from scipy.stats import mannwhitneyu"
      ],
      "metadata": {
        "id": "F6bawtydj0HN"
      },
      "execution_count": null,
      "outputs": []
    },
    {
      "cell_type": "code",
      "source": [
        "#fiz o teste separadamente do gráfico e novamente meu p valor deu tão baixo que acredito estar errado e continuo sem saber explicar o porquê\n",
        "\n",
        "mannwhitneyu(covid['ilha'], covid['mortes'])"
      ],
      "metadata": {
        "colab": {
          "base_uri": "https://localhost:8080/"
        },
        "id": "bq8TDA1j5B-O",
        "outputId": "064761de-6c61-41dc-970c-2b8f97bbc485"
      },
      "execution_count": null,
      "outputs": [
        {
          "output_type": "execute_result",
          "data": {
            "text/plain": [
              "MannwhitneyuResult(statistic=915.5, pvalue=1.550456294256393e-52)"
            ]
          },
          "metadata": {},
          "execution_count": 92
        }
      ]
    },
    {
      "cell_type": "code",
      "source": [
        "#  Não sei se o problema é o tamanho discrepante entre as duas distribuições, são apenas 22 países que são ilha\n",
        "covid[covid['ilha']].count()"
      ],
      "metadata": {
        "colab": {
          "base_uri": "https://localhost:8080/"
        },
        "id": "jthJeLfTJ98P",
        "outputId": "7cc15597-7a78-43fd-db0a-fb7829cfbcac"
      },
      "execution_count": null,
      "outputs": [
        {
          "output_type": "execute_result",
          "data": {
            "text/plain": [
              "pais                  22\n",
              "pop_2020              22\n",
              "pop_2019              22\n",
              "mortes                22\n",
              "idade                 22\n",
              "ilha                  22\n",
              "exp_covid             22\n",
              "dist_sars             22\n",
              "pacifico_ocidental    22\n",
              "mulher                22\n",
              "confianca_inst        22\n",
              "gini                  22\n",
              "dtype: int64"
            ]
          },
          "metadata": {},
          "execution_count": 86
        }
      ]
    },
    {
      "cell_type": "markdown",
      "source": [
        "De qualquer forma, olhando para as medianas e os boxplots, as duas distribuições parecem diferir entre si com as ilhas apresentando menor número de mortes"
      ],
      "metadata": {
        "id": "NfqHOeHFxH-P"
      }
    },
    {
      "cell_type": "code",
      "source": [
        "#calculando as medianas de mortes e exposição ao covid agrupadamente para governantes mulheres\n",
        "\n",
        "covid.groupby('mulher')[['mortes', 'exp_covid']].median()"
      ],
      "metadata": {
        "colab": {
          "base_uri": "https://localhost:8080/",
          "height": 143
        },
        "id": "gzz08nhGikel",
        "outputId": "b286ef56-b2d3-4571-b395-7a5853e4eaa0"
      },
      "execution_count": null,
      "outputs": [
        {
          "output_type": "execute_result",
          "data": {
            "text/html": [
              "<div>\n",
              "<style scoped>\n",
              "    .dataframe tbody tr th:only-of-type {\n",
              "        vertical-align: middle;\n",
              "    }\n",
              "\n",
              "    .dataframe tbody tr th {\n",
              "        vertical-align: top;\n",
              "    }\n",
              "\n",
              "    .dataframe thead th {\n",
              "        text-align: right;\n",
              "    }\n",
              "</style>\n",
              "<table border=\"1\" class=\"dataframe\">\n",
              "  <thead>\n",
              "    <tr style=\"text-align: right;\">\n",
              "      <th></th>\n",
              "      <th>mortes</th>\n",
              "      <th>exp_covid</th>\n",
              "    </tr>\n",
              "    <tr>\n",
              "      <th>mulher</th>\n",
              "      <th></th>\n",
              "      <th></th>\n",
              "    </tr>\n",
              "  </thead>\n",
              "  <tbody>\n",
              "    <tr>\n",
              "      <th>False</th>\n",
              "      <td>12.182</td>\n",
              "      <td>1.076</td>\n",
              "    </tr>\n",
              "    <tr>\n",
              "      <th>True</th>\n",
              "      <td>8.498</td>\n",
              "      <td>1.649</td>\n",
              "    </tr>\n",
              "  </tbody>\n",
              "</table>\n",
              "</div>"
            ],
            "text/plain": [
              "        mortes  exp_covid\n",
              "mulher                   \n",
              "False   12.182      1.076\n",
              "True     8.498      1.649"
            ]
          },
          "metadata": {},
          "execution_count": 76
        }
      ]
    },
    {
      "cell_type": "code",
      "source": [
        "# boxplot comparando as distribuições do número de mortes entre os países que são governados por mulheres e os que não são\n",
        "\n",
        "plt.figure(figsize = (10,8))\n",
        "sns.boxplot(x = 'mulher', y = 'mortes', data = covid);"
      ],
      "metadata": {
        "colab": {
          "base_uri": "https://localhost:8080/",
          "height": 502
        },
        "id": "HQTxTwnQmH9U",
        "outputId": "ea40265d-adfd-4c3e-821e-ec536162c5ed"
      },
      "execution_count": null,
      "outputs": [
        {
          "output_type": "display_data",
          "data": {
            "image/png": "[encoded data removed]",
            "text/plain": [
              "<Figure size 720x576 with 1 Axes>"
            ]
          },
          "metadata": {}
        }
      ]
    },
    {
      "cell_type": "code",
      "source": [
        "# Novamente me deparei com o problema do p valor absurdamente baixo que acredito ser um erro mas não consigo dizer qual\n",
        "\n",
        "sns.set(style=\"whitegrid\")\n",
        "\n",
        "x = \"mulher\"\n",
        "y = \"mortes\"\n",
        "order = ['False', 'True']\n",
        "ax = sns.boxplot(data=covid, x=x, y=y, order=None)\n",
        "add_stat_annotation(ax, data=covid, x=x, y=y, order=order,\n",
        "                    box_pairs=[('False', 'True')],\n",
        "                    test='Mann-Whitney', text_format='star', loc='outside', verbose=2)\n"
      ],
      "metadata": {
        "colab": {
          "base_uri": "https://localhost:8080/",
          "height": 518
        },
        "id": "m1NCUQpzn3no",
        "outputId": "5b2cd344-f234-4b07-94c5-3011386e24e2"
      },
      "execution_count": null,
      "outputs": [
        {
          "output_type": "stream",
          "name": "stdout",
          "text": [
            "p-value annotation legend:\n",
            "ns: 5.00e-02 < p <= 1.00e+00\n",
            "*: 1.00e-02 < p <= 5.00e-02\n",
            "**: 1.00e-03 < p <= 1.00e-02\n",
            "***: 1.00e-04 < p <= 1.00e-03\n",
            "****: p <= 1.00e-04\n",
            "\n",
            "False v.s. True: Mann-Whitney-Wilcoxon test two-sided with Bonferroni correction, P_val=0.000e+00 U_stat=0.000e+00\n"
          ]
        },
        {
          "output_type": "stream",
          "name": "stderr",
          "text": [
            "/usr/local/lib/python3.7/dist-packages/scipy/stats/stats.py:6415: RuntimeWarning: divide by zero encountered in double_scalars\n",
            "  z = (bigu - meanrank) / sd\n"
          ]
        },
        {
          "output_type": "execute_result",
          "data": {
            "text/plain": [
              "(<matplotlib.axes._subplots.AxesSubplot at 0x7f8f544f5dd0>,\n",
              " [<statannot.StatResult.StatResult at 0x7f8f544c1190>])"
            ]
          },
          "metadata": {},
          "execution_count": 54
        },
        {
          "output_type": "display_data",
          "data": {
            "image/png": "[encoded data removed]",
            "text/plain": [
              "<Figure size 432x288 with 1 Axes>"
            ]
          },
          "metadata": {}
        }
      ]
    },
    {
      "cell_type": "code",
      "source": [
        "# e com um teste estatístico separado do gráfico sigo com o mesmo problema.\n",
        "\n",
        "mannwhitneyu(covid['mulher'], covid['mortes'])"
      ],
      "metadata": {
        "colab": {
          "base_uri": "https://localhost:8080/"
        },
        "id": "YNuD8V31Mw_6",
        "outputId": "a04801c9-3fae-4a64-8c40-5602c5eca344"
      },
      "execution_count": null,
      "outputs": [
        {
          "output_type": "execute_result",
          "data": {
            "text/plain": [
              "MannwhitneyuResult(statistic=946.0, pvalue=3.4222696022115106e-52)"
            ]
          },
          "metadata": {},
          "execution_count": 74
        }
      ]
    },
    {
      "cell_type": "code",
      "source": [
        "# olhando a quantidade de países que têm mulheres como principais governantes\n",
        "covid[covid['mulher']].count()"
      ],
      "metadata": {
        "id": "v8P8-WzRKo6C",
        "colab": {
          "base_uri": "https://localhost:8080/"
        },
        "outputId": "f1aab2aa-d90e-4bf7-8cd3-02ca666622d5"
      },
      "execution_count": null,
      "outputs": [
        {
          "output_type": "execute_result",
          "data": {
            "text/plain": [
              "pais                  23\n",
              "pop_2020              23\n",
              "pop_2019              23\n",
              "mortes                23\n",
              "idade                 23\n",
              "ilha                  23\n",
              "exp_covid             23\n",
              "dist_sars             23\n",
              "pacifico_ocidental    23\n",
              "mulher                23\n",
              "confianca_inst        23\n",
              "gini                  23\n",
              "dtype: int64"
            ]
          },
          "metadata": {},
          "execution_count": 87
        }
      ]
    },
    {
      "cell_type": "markdown",
      "source": [
        "Apesar das medianas das duas distribuições parecerem diferentes, os boxplots não parecem tão diferentes e olhando para eles as medianas parecem muito próximas."
      ],
      "metadata": {
        "id": "eU49sfV_yoSX"
      }
    },
    {
      "cell_type": "code",
      "source": [
        "# Fazendo um heatmap de correlação\n",
        "plt.figure(figsize=(16, 6))\n",
        "\n",
        "mask = np.triu(np.ones_like(covid.corr(), dtype=np.bool)) #essa variável vai fazer com que seja mostrada só a metade inferior da matriz de correlação\n",
        "heatmap = sns.heatmap(covid.corr(), mask=mask, vmin=-1, vmax=1, annot=True, cmap='BrBG')\n",
        "heatmap.set_title('Heatmap de correlação', fontdict={'fontsize':18}, pad=16);"
      ],
      "metadata": {
        "colab": {
          "base_uri": "https://localhost:8080/",
          "height": 496
        },
        "id": "DUYZDfISxCq-",
        "outputId": "e07d3d5d-8870-4bab-944e-69b9fca6ad39"
      },
      "execution_count": null,
      "outputs": [
        {
          "output_type": "display_data",
          "data": {
            "image/png": "[encoded data removed]",
            "text/plain": [
              "<Figure size 1152x432 with 2 Axes>"
            ]
          },
          "metadata": {}
        }
      ]
    },
    {
      "cell_type": "markdown",
      "source": [
        "Há uma correlação moderada positiva entre idade e mortes, idade e exposição ao covid em outros países e exposição e morte, conforme esperado. Quanto mais velha a população maior o grupo de risco e quanto maior a exposição, mais doentes e mais mortos.\n",
        "\n",
        "Me chama a atenção a correlação moderada negativa do índice gini com a exposição ao covid, pois quanto menor o índice gini (maior igualdade de distribuição de renda), maior a exposição."
      ],
      "metadata": {
        "id": "ctQJF-aCzW80"
      }
    },
    {
      "cell_type": "markdown",
      "source": [
        "\n",
        "## Será que consigo prever o desempenho de um país na pandemia?"
      ],
      "metadata": {
        "id": "-GNo-DfxMTJ9"
      }
    },
    {
      "cell_type": "markdown",
      "source": [
        "Primeiramente preciso criar a classificação de desempenho de cada país, criando assim uma variável discreta para classificar meus grupos de interesse"
      ],
      "metadata": {
        "id": "GFjeZAPK0Hzn"
      }
    },
    {
      "cell_type": "code",
      "source": [
        "# selecionando as variáveis que quero utilizar para classificar o desempenho dos países\n",
        "\n",
        "covid_var = covid[['mortes', 'exp_covid']]"
      ],
      "metadata": {
        "id": "ZO0uF5lQSyBs"
      },
      "execution_count": null,
      "outputs": []
    },
    {
      "cell_type": "code",
      "source": [
        "# normalizando os dados para seleção de clusters\n",
        "\n",
        "covid_scaler = covid_var.apply(lambda x: (x-x.mean())/ x.std(), axis=0)"
      ],
      "metadata": {
        "id": "oSEcStvtUlWe"
      },
      "execution_count": null,
      "outputs": []
    },
    {
      "cell_type": "code",
      "source": [
        "# head da tabela com as distribuições normalizadas\n",
        "\n",
        "covid_scaler.head()"
      ],
      "metadata": {
        "colab": {
          "base_uri": "https://localhost:8080/",
          "height": 206
        },
        "id": "D4VL4-3NUqFA",
        "outputId": "8736fc55-0478-46c9-bc5b-b06e1a9bf5cd"
      },
      "execution_count": null,
      "outputs": [
        {
          "output_type": "execute_result",
          "data": {
            "text/html": [
              "<div>\n",
              "<style scoped>\n",
              "    .dataframe tbody tr th:only-of-type {\n",
              "        vertical-align: middle;\n",
              "    }\n",
              "\n",
              "    .dataframe tbody tr th {\n",
              "        vertical-align: top;\n",
              "    }\n",
              "\n",
              "    .dataframe thead th {\n",
              "        text-align: right;\n",
              "    }\n",
              "</style>\n",
              "<table border=\"1\" class=\"dataframe\">\n",
              "  <thead>\n",
              "    <tr style=\"text-align: right;\">\n",
              "      <th></th>\n",
              "      <th>mortes</th>\n",
              "      <th>exp_covid</th>\n",
              "    </tr>\n",
              "  </thead>\n",
              "  <tbody>\n",
              "    <tr>\n",
              "      <th>0</th>\n",
              "      <td>1.930842</td>\n",
              "      <td>0.009345</td>\n",
              "    </tr>\n",
              "    <tr>\n",
              "      <th>1</th>\n",
              "      <td>-0.608653</td>\n",
              "      <td>-0.037419</td>\n",
              "    </tr>\n",
              "    <tr>\n",
              "      <th>2</th>\n",
              "      <td>-0.279833</td>\n",
              "      <td>0.506119</td>\n",
              "    </tr>\n",
              "    <tr>\n",
              "      <th>3</th>\n",
              "      <td>-0.240770</td>\n",
              "      <td>0.164970</td>\n",
              "    </tr>\n",
              "    <tr>\n",
              "      <th>4</th>\n",
              "      <td>-0.335889</td>\n",
              "      <td>-0.326437</td>\n",
              "    </tr>\n",
              "  </tbody>\n",
              "</table>\n",
              "</div>"
            ],
            "text/plain": [
              "     mortes  exp_covid\n",
              "0  1.930842   0.009345\n",
              "1 -0.608653  -0.037419\n",
              "2 -0.279833   0.506119\n",
              "3 -0.240770   0.164970\n",
              "4 -0.335889  -0.326437"
            ]
          },
          "metadata": {},
          "execution_count": 13
        }
      ]
    },
    {
      "cell_type": "code",
      "source": [
        "# conferindo se os dados foram normalizados\n",
        "covid_scaler.mean().round()"
      ],
      "metadata": {
        "colab": {
          "base_uri": "https://localhost:8080/"
        },
        "id": "KArZbsJJUsCE",
        "outputId": "9fae55f2-5146-4139-df74-3e070397460e"
      },
      "execution_count": null,
      "outputs": [
        {
          "output_type": "execute_result",
          "data": {
            "text/plain": [
              "mortes      -0.0\n",
              "exp_covid    0.0\n",
              "dtype: float64"
            ]
          },
          "metadata": {},
          "execution_count": 14
        }
      ]
    },
    {
      "cell_type": "code",
      "source": [
        "# conferindo se os dados foram normalizados\n",
        "covid_scaler.std()"
      ],
      "metadata": {
        "colab": {
          "base_uri": "https://localhost:8080/"
        },
        "id": "d1fsmYf3UyH0",
        "outputId": "035d2e90-4d36-4072-ef79-9cabc59f4408"
      },
      "execution_count": null,
      "outputs": [
        {
          "output_type": "execute_result",
          "data": {
            "text/plain": [
              "mortes       1.0\n",
              "exp_covid    1.0\n",
              "dtype: float64"
            ]
          },
          "metadata": {},
          "execution_count": 15
        }
      ]
    },
    {
      "cell_type": "code",
      "source": [
        "from sklearn.cluster import KMeans\n",
        "from yellowbrick.cluster import KElbowVisualizer"
      ],
      "metadata": {
        "id": "PqU5oewRU29U"
      },
      "execution_count": null,
      "outputs": []
    },
    {
      "cell_type": "code",
      "source": [
        "# vendo qual a quantidade ideal de clusters para dividir a minha amostra\n",
        "\n",
        "model = KMeans()\n",
        "visualizer = KElbowVisualizer(model, k=(2,10))\n",
        "visualizer.fit(covid_scaler)    \n",
        "visualizer.show()  "
      ],
      "metadata": {
        "colab": {
          "base_uri": "https://localhost:8080/",
          "height": 393
        },
        "id": "ejYmE4WIU7U0",
        "outputId": "661fe208-a068-40f9-efc4-ade1d797c92d"
      },
      "execution_count": null,
      "outputs": [
        {
          "output_type": "display_data",
          "data": {
            "image/png": "[encoded data removed]",
            "text/plain": [
              "<Figure size 576x396 with 2 Axes>"
            ]
          },
          "metadata": {}
        },
        {
          "output_type": "execute_result",
          "data": {
            "text/plain": [
              "<matplotlib.axes._subplots.AxesSubplot at 0x7f21c2664c10>"
            ]
          },
          "metadata": {},
          "execution_count": 17
        }
      ]
    },
    {
      "cell_type": "code",
      "source": [
        "# classificando meus dados em 4 amostras diferentes\n",
        "\n",
        "kmeans = KMeans(n_clusters=4, random_state=12012021).fit(covid_scaler)"
      ],
      "metadata": {
        "id": "aisDZqYZZuEf"
      },
      "execution_count": null,
      "outputs": []
    },
    {
      "cell_type": "code",
      "source": [
        "# adicionando na minha tabela a classificação de cada país\n",
        "\n",
        "covid['desempenho'] = kmeans.labels_"
      ],
      "metadata": {
        "id": "zj17YTp8Zz5N"
      },
      "execution_count": null,
      "outputs": []
    },
    {
      "cell_type": "code",
      "source": [
        "covid.head()"
      ],
      "metadata": {
        "colab": {
          "base_uri": "https://localhost:8080/",
          "height": 206
        },
        "id": "JVYtPfscZ8ht",
        "outputId": "99cbbb4f-8090-4c3f-8184-6136bb36d2bb"
      },
      "execution_count": null,
      "outputs": [
        {
          "output_type": "execute_result",
          "data": {
            "text/html": [
              "<div>\n",
              "<style scoped>\n",
              "    .dataframe tbody tr th:only-of-type {\n",
              "        vertical-align: middle;\n",
              "    }\n",
              "\n",
              "    .dataframe tbody tr th {\n",
              "        vertical-align: top;\n",
              "    }\n",
              "\n",
              "    .dataframe thead th {\n",
              "        text-align: right;\n",
              "    }\n",
              "</style>\n",
              "<table border=\"1\" class=\"dataframe\">\n",
              "  <thead>\n",
              "    <tr style=\"text-align: right;\">\n",
              "      <th></th>\n",
              "      <th>pais</th>\n",
              "      <th>pop_2020</th>\n",
              "      <th>pop_2019</th>\n",
              "      <th>mortes</th>\n",
              "      <th>idade</th>\n",
              "      <th>ilha</th>\n",
              "      <th>exp_covid</th>\n",
              "      <th>dist_sars</th>\n",
              "      <th>pacifico_ocidental</th>\n",
              "      <th>mulher</th>\n",
              "      <th>confianca_inst</th>\n",
              "      <th>gini</th>\n",
              "      <th>desempenho</th>\n",
              "    </tr>\n",
              "  </thead>\n",
              "  <tbody>\n",
              "    <tr>\n",
              "      <th>0</th>\n",
              "      <td>United States</td>\n",
              "      <td>331002647.0</td>\n",
              "      <td>328239523.0</td>\n",
              "      <td>104.451</td>\n",
              "      <td>38.3</td>\n",
              "      <td>False</td>\n",
              "      <td>1.688</td>\n",
              "      <td>9.315</td>\n",
              "      <td>False</td>\n",
              "      <td>False</td>\n",
              "      <td>0.250</td>\n",
              "      <td>47.51</td>\n",
              "      <td>2</td>\n",
              "    </tr>\n",
              "    <tr>\n",
              "      <th>1</th>\n",
              "      <td>Egypt</td>\n",
              "      <td>102334403.0</td>\n",
              "      <td>100388073.0</td>\n",
              "      <td>7.457</td>\n",
              "      <td>25.3</td>\n",
              "      <td>False</td>\n",
              "      <td>1.627</td>\n",
              "      <td>9.007</td>\n",
              "      <td>False</td>\n",
              "      <td>False</td>\n",
              "      <td>0.446</td>\n",
              "      <td>31.56</td>\n",
              "      <td>1</td>\n",
              "    </tr>\n",
              "    <tr>\n",
              "      <th>2</th>\n",
              "      <td>Morocco</td>\n",
              "      <td>36910558.0</td>\n",
              "      <td>36471769.0</td>\n",
              "      <td>20.016</td>\n",
              "      <td>29.6</td>\n",
              "      <td>False</td>\n",
              "      <td>2.336</td>\n",
              "      <td>9.226</td>\n",
              "      <td>False</td>\n",
              "      <td>False</td>\n",
              "      <td>0.397</td>\n",
              "      <td>39.55</td>\n",
              "      <td>3</td>\n",
              "    </tr>\n",
              "    <tr>\n",
              "      <th>3</th>\n",
              "      <td>Lebanon</td>\n",
              "      <td>6825442.0</td>\n",
              "      <td>6855713.0</td>\n",
              "      <td>21.508</td>\n",
              "      <td>31.1</td>\n",
              "      <td>False</td>\n",
              "      <td>1.891</td>\n",
              "      <td>8.956</td>\n",
              "      <td>False</td>\n",
              "      <td>False</td>\n",
              "      <td>0.107</td>\n",
              "      <td>31.83</td>\n",
              "      <td>3</td>\n",
              "    </tr>\n",
              "    <tr>\n",
              "      <th>4</th>\n",
              "      <td>Saudi Arabia</td>\n",
              "      <td>34813867.0</td>\n",
              "      <td>34268528.0</td>\n",
              "      <td>17.875</td>\n",
              "      <td>31.9</td>\n",
              "      <td>False</td>\n",
              "      <td>1.250</td>\n",
              "      <td>8.897</td>\n",
              "      <td>False</td>\n",
              "      <td>False</td>\n",
              "      <td>0.651</td>\n",
              "      <td>45.90</td>\n",
              "      <td>1</td>\n",
              "    </tr>\n",
              "  </tbody>\n",
              "</table>\n",
              "</div>"
            ],
            "text/plain": [
              "            pais     pop_2020     pop_2019  ...  confianca_inst   gini  desempenho\n",
              "0  United States  331002647.0  328239523.0  ...           0.250  47.51           2\n",
              "1          Egypt  102334403.0  100388073.0  ...           0.446  31.56           1\n",
              "2        Morocco   36910558.0   36471769.0  ...           0.397  39.55           3\n",
              "3        Lebanon    6825442.0    6855713.0  ...           0.107  31.83           3\n",
              "4   Saudi Arabia   34813867.0   34268528.0  ...           0.651  45.90           1\n",
              "\n",
              "[5 rows x 13 columns]"
            ]
          },
          "metadata": {},
          "execution_count": 41
        }
      ]
    },
    {
      "cell_type": "code",
      "source": [
        "# olhando para minhas variáveis classificadoras segundo a classificação para ver que tipo de grupos foram criados \n",
        "\n",
        "sns.scatterplot(data=covid, x=\"mortes\", y=\"exp_covid\", hue= 'desempenho',  palette=\"deep\")"
      ],
      "metadata": {
        "colab": {
          "base_uri": "https://localhost:8080/",
          "height": 378
        },
        "id": "lwLYlPd0Z-pW",
        "outputId": "01f5194b-ded9-48a2-98e2-28459211b91a"
      },
      "execution_count": null,
      "outputs": [
        {
          "output_type": "execute_result",
          "data": {
            "text/plain": [
              "<matplotlib.axes._subplots.AxesSubplot at 0x7f21b0055350>"
            ]
          },
          "metadata": {},
          "execution_count": 20
        },
        {
          "output_type": "display_data",
          "data": {
            "image/png": "[encoded data removed]",
            "text/plain": [
              "<Figure size 576x396 with 1 Axes>"
            ]
          },
          "metadata": {}
        }
      ]
    },
    {
      "cell_type": "code",
      "source": [
        "# olhando quantos países caíram em cada classificação\n",
        "\n",
        "covid.groupby(['desempenho']).size().to_frame('count').sort_values('count', ascending=False)"
      ],
      "metadata": {
        "colab": {
          "base_uri": "https://localhost:8080/",
          "height": 206
        },
        "id": "gKCR5V24plNY",
        "outputId": "6294fb72-9595-4281-9d7f-d3072f114976"
      },
      "execution_count": null,
      "outputs": [
        {
          "output_type": "execute_result",
          "data": {
            "text/html": [
              "<div>\n",
              "<style scoped>\n",
              "    .dataframe tbody tr th:only-of-type {\n",
              "        vertical-align: middle;\n",
              "    }\n",
              "\n",
              "    .dataframe tbody tr th {\n",
              "        vertical-align: top;\n",
              "    }\n",
              "\n",
              "    .dataframe thead th {\n",
              "        text-align: right;\n",
              "    }\n",
              "</style>\n",
              "<table border=\"1\" class=\"dataframe\">\n",
              "  <thead>\n",
              "    <tr style=\"text-align: right;\">\n",
              "      <th></th>\n",
              "      <th>count</th>\n",
              "    </tr>\n",
              "    <tr>\n",
              "      <th>desempenho</th>\n",
              "      <th></th>\n",
              "    </tr>\n",
              "  </thead>\n",
              "  <tbody>\n",
              "    <tr>\n",
              "      <th>1</th>\n",
              "      <td>97</td>\n",
              "    </tr>\n",
              "    <tr>\n",
              "      <th>3</th>\n",
              "      <td>30</td>\n",
              "    </tr>\n",
              "    <tr>\n",
              "      <th>2</th>\n",
              "      <td>19</td>\n",
              "    </tr>\n",
              "    <tr>\n",
              "      <th>0</th>\n",
              "      <td>17</td>\n",
              "    </tr>\n",
              "  </tbody>\n",
              "</table>\n",
              "</div>"
            ],
            "text/plain": [
              "            count\n",
              "desempenho       \n",
              "1              97\n",
              "3              30\n",
              "2              19\n",
              "0              17"
            ]
          },
          "metadata": {},
          "execution_count": 21
        }
      ]
    },
    {
      "cell_type": "code",
      "source": [
        "# adicionando uma etiqueta para cada cluster definido. Considerei ótimo os países com números baixos tanto de morte quanto de exposição,\n",
        "# bom os que tiveram número baixo de mortes mas alta exposição, ruim os que tiveram baixa exposição mas muita morte e \n",
        "# péssimo os que tiveram alta exposição e muita morte\n",
        "\n",
        "dict_cluster = {0:'péssimo',\n",
        "1:'ótimo',\n",
        "2:'ruim',\n",
        "3:'bom'}\n",
        "\n",
        "covid['cluster'] = covid['desempenho'].map(dict_cluster)"
      ],
      "metadata": {
        "id": "tlYx7XsaeJ8V"
      },
      "execution_count": null,
      "outputs": []
    },
    {
      "cell_type": "code",
      "source": [
        "covid.head()"
      ],
      "metadata": {
        "colab": {
          "base_uri": "https://localhost:8080/",
          "height": 206
        },
        "id": "v0RDTQL3qj7i",
        "outputId": "7f1aada8-9bf6-4f52-a368-387605848713"
      },
      "execution_count": null,
      "outputs": [
        {
          "output_type": "execute_result",
          "data": {
            "text/html": [
              "<div>\n",
              "<style scoped>\n",
              "    .dataframe tbody tr th:only-of-type {\n",
              "        vertical-align: middle;\n",
              "    }\n",
              "\n",
              "    .dataframe tbody tr th {\n",
              "        vertical-align: top;\n",
              "    }\n",
              "\n",
              "    .dataframe thead th {\n",
              "        text-align: right;\n",
              "    }\n",
              "</style>\n",
              "<table border=\"1\" class=\"dataframe\">\n",
              "  <thead>\n",
              "    <tr style=\"text-align: right;\">\n",
              "      <th></th>\n",
              "      <th>pais</th>\n",
              "      <th>pop_2020</th>\n",
              "      <th>pop_2019</th>\n",
              "      <th>mortes</th>\n",
              "      <th>idade</th>\n",
              "      <th>ilha</th>\n",
              "      <th>exp_covid</th>\n",
              "      <th>dist_sars</th>\n",
              "      <th>pacifico_ocidental</th>\n",
              "      <th>mulher</th>\n",
              "      <th>confianca_inst</th>\n",
              "      <th>gini</th>\n",
              "      <th>desempenho</th>\n",
              "      <th>cluster</th>\n",
              "    </tr>\n",
              "  </thead>\n",
              "  <tbody>\n",
              "    <tr>\n",
              "      <th>0</th>\n",
              "      <td>United States</td>\n",
              "      <td>331002647.0</td>\n",
              "      <td>328239523.0</td>\n",
              "      <td>104.451</td>\n",
              "      <td>38.3</td>\n",
              "      <td>False</td>\n",
              "      <td>1.688</td>\n",
              "      <td>9.315</td>\n",
              "      <td>False</td>\n",
              "      <td>False</td>\n",
              "      <td>0.250</td>\n",
              "      <td>47.51</td>\n",
              "      <td>2</td>\n",
              "      <td>ruim</td>\n",
              "    </tr>\n",
              "    <tr>\n",
              "      <th>1</th>\n",
              "      <td>Egypt</td>\n",
              "      <td>102334403.0</td>\n",
              "      <td>100388073.0</td>\n",
              "      <td>7.457</td>\n",
              "      <td>25.3</td>\n",
              "      <td>False</td>\n",
              "      <td>1.627</td>\n",
              "      <td>9.007</td>\n",
              "      <td>False</td>\n",
              "      <td>False</td>\n",
              "      <td>0.446</td>\n",
              "      <td>31.56</td>\n",
              "      <td>1</td>\n",
              "      <td>ótimo</td>\n",
              "    </tr>\n",
              "    <tr>\n",
              "      <th>2</th>\n",
              "      <td>Morocco</td>\n",
              "      <td>36910558.0</td>\n",
              "      <td>36471769.0</td>\n",
              "      <td>20.016</td>\n",
              "      <td>29.6</td>\n",
              "      <td>False</td>\n",
              "      <td>2.336</td>\n",
              "      <td>9.226</td>\n",
              "      <td>False</td>\n",
              "      <td>False</td>\n",
              "      <td>0.397</td>\n",
              "      <td>39.55</td>\n",
              "      <td>3</td>\n",
              "      <td>bom</td>\n",
              "    </tr>\n",
              "    <tr>\n",
              "      <th>3</th>\n",
              "      <td>Lebanon</td>\n",
              "      <td>6825442.0</td>\n",
              "      <td>6855713.0</td>\n",
              "      <td>21.508</td>\n",
              "      <td>31.1</td>\n",
              "      <td>False</td>\n",
              "      <td>1.891</td>\n",
              "      <td>8.956</td>\n",
              "      <td>False</td>\n",
              "      <td>False</td>\n",
              "      <td>0.107</td>\n",
              "      <td>31.83</td>\n",
              "      <td>3</td>\n",
              "      <td>bom</td>\n",
              "    </tr>\n",
              "    <tr>\n",
              "      <th>4</th>\n",
              "      <td>Saudi Arabia</td>\n",
              "      <td>34813867.0</td>\n",
              "      <td>34268528.0</td>\n",
              "      <td>17.875</td>\n",
              "      <td>31.9</td>\n",
              "      <td>False</td>\n",
              "      <td>1.250</td>\n",
              "      <td>8.897</td>\n",
              "      <td>False</td>\n",
              "      <td>False</td>\n",
              "      <td>0.651</td>\n",
              "      <td>45.90</td>\n",
              "      <td>1</td>\n",
              "      <td>ótimo</td>\n",
              "    </tr>\n",
              "  </tbody>\n",
              "</table>\n",
              "</div>"
            ],
            "text/plain": [
              "            pais     pop_2020     pop_2019  ...   gini  desempenho  cluster\n",
              "0  United States  331002647.0  328239523.0  ...  47.51           2     ruim\n",
              "1          Egypt  102334403.0  100388073.0  ...  31.56           1    ótimo\n",
              "2        Morocco   36910558.0   36471769.0  ...  39.55           3      bom\n",
              "3        Lebanon    6825442.0    6855713.0  ...  31.83           3      bom\n",
              "4   Saudi Arabia   34813867.0   34268528.0  ...  45.90           1    ótimo\n",
              "\n",
              "[5 rows x 14 columns]"
            ]
          },
          "metadata": {},
          "execution_count": 47
        }
      ]
    },
    {
      "cell_type": "code",
      "source": [
        "# olhando para os valores das medianas das variáveis numéricas para cada um dos meus grupos definidos\n",
        "\n",
        "covid[['pop_2020', 'pop_2020', 'mortes', 'idade', 'exp_covid', \n",
        "                   'dist_sars', 'confianca_inst', 'gini', 'cluster']].groupby(['cluster']).median()"
      ],
      "metadata": {
        "colab": {
          "base_uri": "https://localhost:8080/",
          "height": 206
        },
        "id": "Y8xQmXI1qlvk",
        "outputId": "5a4e73f4-a9fe-4a5d-a72c-c2f8055ec5b0"
      },
      "execution_count": null,
      "outputs": [
        {
          "output_type": "execute_result",
          "data": {
            "text/html": [
              "<div>\n",
              "<style scoped>\n",
              "    .dataframe tbody tr th:only-of-type {\n",
              "        vertical-align: middle;\n",
              "    }\n",
              "\n",
              "    .dataframe tbody tr th {\n",
              "        vertical-align: top;\n",
              "    }\n",
              "\n",
              "    .dataframe thead th {\n",
              "        text-align: right;\n",
              "    }\n",
              "</style>\n",
              "<table border=\"1\" class=\"dataframe\">\n",
              "  <thead>\n",
              "    <tr style=\"text-align: right;\">\n",
              "      <th></th>\n",
              "      <th>pop_2020</th>\n",
              "      <th>pop_2020</th>\n",
              "      <th>mortes</th>\n",
              "      <th>idade</th>\n",
              "      <th>exp_covid</th>\n",
              "      <th>dist_sars</th>\n",
              "      <th>confianca_inst</th>\n",
              "      <th>gini</th>\n",
              "    </tr>\n",
              "    <tr>\n",
              "      <th>cluster</th>\n",
              "      <th></th>\n",
              "      <th></th>\n",
              "      <th></th>\n",
              "      <th></th>\n",
              "      <th></th>\n",
              "      <th></th>\n",
              "      <th></th>\n",
              "      <th></th>\n",
              "    </tr>\n",
              "  </thead>\n",
              "  <tbody>\n",
              "    <tr>\n",
              "      <th>bom</th>\n",
              "      <td>7763414.0</td>\n",
              "      <td>7763414.0</td>\n",
              "      <td>35.6215</td>\n",
              "      <td>39.15</td>\n",
              "      <td>2.3505</td>\n",
              "      <td>8.9765</td>\n",
              "      <td>0.255</td>\n",
              "      <td>31.215</td>\n",
              "    </tr>\n",
              "    <tr>\n",
              "      <th>péssimo</th>\n",
              "      <td>9660350.0</td>\n",
              "      <td>9660350.0</td>\n",
              "      <td>99.2120</td>\n",
              "      <td>43.20</td>\n",
              "      <td>4.8170</td>\n",
              "      <td>9.0450</td>\n",
              "      <td>0.253</td>\n",
              "      <td>29.700</td>\n",
              "    </tr>\n",
              "    <tr>\n",
              "      <th>ruim</th>\n",
              "      <td>17643060.0</td>\n",
              "      <td>17643060.0</td>\n",
              "      <td>86.8790</td>\n",
              "      <td>33.50</td>\n",
              "      <td>0.9260</td>\n",
              "      <td>9.4340</td>\n",
              "      <td>0.115</td>\n",
              "      <td>43.800</td>\n",
              "    </tr>\n",
              "    <tr>\n",
              "      <th>ótimo</th>\n",
              "      <td>14862927.0</td>\n",
              "      <td>14862927.0</td>\n",
              "      <td>2.0700</td>\n",
              "      <td>25.00</td>\n",
              "      <td>0.8910</td>\n",
              "      <td>9.1530</td>\n",
              "      <td>0.323</td>\n",
              "      <td>39.700</td>\n",
              "    </tr>\n",
              "  </tbody>\n",
              "</table>\n",
              "</div>"
            ],
            "text/plain": [
              "           pop_2020    pop_2020   mortes  ...  dist_sars  confianca_inst    gini\n",
              "cluster                                   ...                                   \n",
              "bom       7763414.0   7763414.0  35.6215  ...     8.9765           0.255  31.215\n",
              "péssimo   9660350.0   9660350.0  99.2120  ...     9.0450           0.253  29.700\n",
              "ruim     17643060.0  17643060.0  86.8790  ...     9.4340           0.115  43.800\n",
              "ótimo    14862927.0  14862927.0   2.0700  ...     9.1530           0.323  39.700\n",
              "\n",
              "[4 rows x 8 columns]"
            ]
          },
          "metadata": {},
          "execution_count": 23
        }
      ]
    },
    {
      "cell_type": "code",
      "source": [
        "# fiquei curiosa para saber qual é aquele pontinho deslocado com péssimo desempenho. O maior outlier desses dados\n",
        "\n",
        "covid['mortes'].max()"
      ],
      "metadata": {
        "colab": {
          "base_uri": "https://localhost:8080/"
        },
        "id": "Kq5tdP7gseD3",
        "outputId": "9e9b49d8-ca1f-429a-fb32-8663085aaf6d"
      },
      "execution_count": null,
      "outputs": [
        {
          "output_type": "execute_result",
          "data": {
            "text/plain": [
              "168.49599999999998"
            ]
          },
          "metadata": {},
          "execution_count": 66
        }
      ]
    },
    {
      "cell_type": "code",
      "source": [
        "# é a Bélgica!!!\n",
        "\n",
        "covid.query(\"mortes == 168.49599999999998\")"
      ],
      "metadata": {
        "colab": {
          "base_uri": "https://localhost:8080/",
          "height": 81
        },
        "id": "fprpXlQitrvw",
        "outputId": "7b7fb4d2-e6f1-4680-f246-c7b688650431"
      },
      "execution_count": null,
      "outputs": [
        {
          "output_type": "execute_result",
          "data": {
            "text/html": [
              "<div>\n",
              "<style scoped>\n",
              "    .dataframe tbody tr th:only-of-type {\n",
              "        vertical-align: middle;\n",
              "    }\n",
              "\n",
              "    .dataframe tbody tr th {\n",
              "        vertical-align: top;\n",
              "    }\n",
              "\n",
              "    .dataframe thead th {\n",
              "        text-align: right;\n",
              "    }\n",
              "</style>\n",
              "<table border=\"1\" class=\"dataframe\">\n",
              "  <thead>\n",
              "    <tr style=\"text-align: right;\">\n",
              "      <th></th>\n",
              "      <th>pais</th>\n",
              "      <th>pop_2020</th>\n",
              "      <th>pop_2019</th>\n",
              "      <th>mortes</th>\n",
              "      <th>idade</th>\n",
              "      <th>ilha</th>\n",
              "      <th>exp_covid</th>\n",
              "      <th>dist_sars</th>\n",
              "      <th>pacifico_ocidental</th>\n",
              "      <th>mulher</th>\n",
              "      <th>confianca_inst</th>\n",
              "      <th>gini</th>\n",
              "      <th>desempenho</th>\n",
              "      <th>cluster</th>\n",
              "    </tr>\n",
              "  </thead>\n",
              "  <tbody>\n",
              "    <tr>\n",
              "      <th>15</th>\n",
              "      <td>Belgium</td>\n",
              "      <td>11589616.0</td>\n",
              "      <td>11484055.0</td>\n",
              "      <td>168.496</td>\n",
              "      <td>41.8</td>\n",
              "      <td>False</td>\n",
              "      <td>6.343</td>\n",
              "      <td>9.071</td>\n",
              "      <td>False</td>\n",
              "      <td>False</td>\n",
              "      <td>0.303</td>\n",
              "      <td>25.6</td>\n",
              "      <td>0</td>\n",
              "      <td>péssimo</td>\n",
              "    </tr>\n",
              "  </tbody>\n",
              "</table>\n",
              "</div>"
            ],
            "text/plain": [
              "       pais    pop_2020    pop_2019  ...  gini  desempenho  cluster\n",
              "15  Belgium  11589616.0  11484055.0  ...  25.6           0  péssimo\n",
              "\n",
              "[1 rows x 14 columns]"
            ]
          },
          "metadata": {},
          "execution_count": 67
        }
      ]
    },
    {
      "cell_type": "code",
      "source": [
        "#Olhando para quais países caíram na classificação de péssimo desempenho\n",
        "\n",
        "covid.query(\"cluster == 'péssimo'\")"
      ],
      "metadata": {
        "colab": {
          "base_uri": "https://localhost:8080/",
          "height": 600
        },
        "id": "rD66fC3EfPQ9",
        "outputId": "4eb1732c-f100-402d-fa3f-2fd53975804d"
      },
      "execution_count": null,
      "outputs": [
        {
          "output_type": "execute_result",
          "data": {
            "text/html": [
              "<div>\n",
              "<style scoped>\n",
              "    .dataframe tbody tr th:only-of-type {\n",
              "        vertical-align: middle;\n",
              "    }\n",
              "\n",
              "    .dataframe tbody tr th {\n",
              "        vertical-align: top;\n",
              "    }\n",
              "\n",
              "    .dataframe thead th {\n",
              "        text-align: right;\n",
              "    }\n",
              "</style>\n",
              "<table border=\"1\" class=\"dataframe\">\n",
              "  <thead>\n",
              "    <tr style=\"text-align: right;\">\n",
              "      <th></th>\n",
              "      <th>pais</th>\n",
              "      <th>pop_2020</th>\n",
              "      <th>pop_2019</th>\n",
              "      <th>mortes</th>\n",
              "      <th>idade</th>\n",
              "      <th>ilha</th>\n",
              "      <th>exp_covid</th>\n",
              "      <th>dist_sars</th>\n",
              "      <th>pacifico_ocidental</th>\n",
              "      <th>mulher</th>\n",
              "      <th>confianca_inst</th>\n",
              "      <th>gini</th>\n",
              "      <th>desempenho</th>\n",
              "      <th>cluster</th>\n",
              "    </tr>\n",
              "  </thead>\n",
              "  <tbody>\n",
              "    <tr>\n",
              "      <th>11</th>\n",
              "      <td>United Kingdom</td>\n",
              "      <td>67886004.0</td>\n",
              "      <td>66834405.0</td>\n",
              "      <td>108.450</td>\n",
              "      <td>40.8</td>\n",
              "      <td>True</td>\n",
              "      <td>5.009</td>\n",
              "      <td>9.087</td>\n",
              "      <td>False</td>\n",
              "      <td>False</td>\n",
              "      <td>0.268</td>\n",
              "      <td>34.07</td>\n",
              "      <td>0</td>\n",
              "      <td>péssimo</td>\n",
              "    </tr>\n",
              "    <tr>\n",
              "      <th>12</th>\n",
              "      <td>France</td>\n",
              "      <td>65273512.0</td>\n",
              "      <td>67059887.0</td>\n",
              "      <td>99.212</td>\n",
              "      <td>42.0</td>\n",
              "      <td>False</td>\n",
              "      <td>5.031</td>\n",
              "      <td>9.092</td>\n",
              "      <td>False</td>\n",
              "      <td>False</td>\n",
              "      <td>0.234</td>\n",
              "      <td>29.30</td>\n",
              "      <td>0</td>\n",
              "      <td>péssimo</td>\n",
              "    </tr>\n",
              "    <tr>\n",
              "      <th>13</th>\n",
              "      <td>Germany</td>\n",
              "      <td>83783945.0</td>\n",
              "      <td>83132799.0</td>\n",
              "      <td>40.331</td>\n",
              "      <td>46.6</td>\n",
              "      <td>False</td>\n",
              "      <td>4.838</td>\n",
              "      <td>9.018</td>\n",
              "      <td>False</td>\n",
              "      <td>True</td>\n",
              "      <td>0.435</td>\n",
              "      <td>31.10</td>\n",
              "      <td>0</td>\n",
              "      <td>péssimo</td>\n",
              "    </tr>\n",
              "    <tr>\n",
              "      <th>14</th>\n",
              "      <td>Netherlands</td>\n",
              "      <td>17134873.0</td>\n",
              "      <td>17332850.0</td>\n",
              "      <td>67.260</td>\n",
              "      <td>43.2</td>\n",
              "      <td>False</td>\n",
              "      <td>5.574</td>\n",
              "      <td>9.060</td>\n",
              "      <td>False</td>\n",
              "      <td>False</td>\n",
              "      <td>0.522</td>\n",
              "      <td>27.00</td>\n",
              "      <td>0</td>\n",
              "      <td>péssimo</td>\n",
              "    </tr>\n",
              "    <tr>\n",
              "      <th>15</th>\n",
              "      <td>Belgium</td>\n",
              "      <td>11589616.0</td>\n",
              "      <td>11484055.0</td>\n",
              "      <td>168.496</td>\n",
              "      <td>41.8</td>\n",
              "      <td>False</td>\n",
              "      <td>6.343</td>\n",
              "      <td>9.071</td>\n",
              "      <td>False</td>\n",
              "      <td>False</td>\n",
              "      <td>0.303</td>\n",
              "      <td>25.60</td>\n",
              "      <td>0</td>\n",
              "      <td>péssimo</td>\n",
              "    </tr>\n",
              "    <tr>\n",
              "      <th>16</th>\n",
              "      <td>Spain</td>\n",
              "      <td>46754783.0</td>\n",
              "      <td>47076781.0</td>\n",
              "      <td>108.731</td>\n",
              "      <td>45.5</td>\n",
              "      <td>False</td>\n",
              "      <td>4.332</td>\n",
              "      <td>9.172</td>\n",
              "      <td>False</td>\n",
              "      <td>False</td>\n",
              "      <td>0.143</td>\n",
              "      <td>33.20</td>\n",
              "      <td>0</td>\n",
              "      <td>péssimo</td>\n",
              "    </tr>\n",
              "    <tr>\n",
              "      <th>17</th>\n",
              "      <td>Italy</td>\n",
              "      <td>60461828.0</td>\n",
              "      <td>60297396.0</td>\n",
              "      <td>122.654</td>\n",
              "      <td>47.9</td>\n",
              "      <td>False</td>\n",
              "      <td>5.501</td>\n",
              "      <td>9.078</td>\n",
              "      <td>False</td>\n",
              "      <td>False</td>\n",
              "      <td>0.076</td>\n",
              "      <td>33.40</td>\n",
              "      <td>0</td>\n",
              "      <td>péssimo</td>\n",
              "    </tr>\n",
              "    <tr>\n",
              "      <th>19</th>\n",
              "      <td>Hungary</td>\n",
              "      <td>9660350.0</td>\n",
              "      <td>9769949.0</td>\n",
              "      <td>98.723</td>\n",
              "      <td>43.4</td>\n",
              "      <td>False</td>\n",
              "      <td>3.555</td>\n",
              "      <td>9.011</td>\n",
              "      <td>False</td>\n",
              "      <td>False</td>\n",
              "      <td>0.253</td>\n",
              "      <td>28.70</td>\n",
              "      <td>0</td>\n",
              "      <td>péssimo</td>\n",
              "    </tr>\n",
              "    <tr>\n",
              "      <th>20</th>\n",
              "      <td>Czech Republic</td>\n",
              "      <td>10708982.0</td>\n",
              "      <td>10669709.0</td>\n",
              "      <td>108.133</td>\n",
              "      <td>43.3</td>\n",
              "      <td>False</td>\n",
              "      <td>4.817</td>\n",
              "      <td>9.025</td>\n",
              "      <td>False</td>\n",
              "      <td>False</td>\n",
              "      <td>0.290</td>\n",
              "      <td>24.00</td>\n",
              "      <td>0</td>\n",
              "      <td>péssimo</td>\n",
              "    </tr>\n",
              "    <tr>\n",
              "      <th>84</th>\n",
              "      <td>Austria</td>\n",
              "      <td>9006400.0</td>\n",
              "      <td>8877067.0</td>\n",
              "      <td>69.084</td>\n",
              "      <td>44.4</td>\n",
              "      <td>False</td>\n",
              "      <td>4.315</td>\n",
              "      <td>9.023</td>\n",
              "      <td>False</td>\n",
              "      <td>False</td>\n",
              "      <td>0.358</td>\n",
              "      <td>26.80</td>\n",
              "      <td>0</td>\n",
              "      <td>péssimo</td>\n",
              "    </tr>\n",
              "    <tr>\n",
              "      <th>90</th>\n",
              "      <td>Bosnia and Herzegovina</td>\n",
              "      <td>3280815.0</td>\n",
              "      <td>3301000.0</td>\n",
              "      <td>123.445</td>\n",
              "      <td>42.5</td>\n",
              "      <td>False</td>\n",
              "      <td>3.509</td>\n",
              "      <td>9.032</td>\n",
              "      <td>False</td>\n",
              "      <td>False</td>\n",
              "      <td>0.064</td>\n",
              "      <td>33.03</td>\n",
              "      <td>0</td>\n",
              "      <td>péssimo</td>\n",
              "    </tr>\n",
              "    <tr>\n",
              "      <th>100</th>\n",
              "      <td>Croatia</td>\n",
              "      <td>4105268.0</td>\n",
              "      <td>4067500.0</td>\n",
              "      <td>95.487</td>\n",
              "      <td>44.0</td>\n",
              "      <td>False</td>\n",
              "      <td>4.057</td>\n",
              "      <td>9.037</td>\n",
              "      <td>False</td>\n",
              "      <td>False</td>\n",
              "      <td>0.131</td>\n",
              "      <td>29.70</td>\n",
              "      <td>0</td>\n",
              "      <td>péssimo</td>\n",
              "    </tr>\n",
              "    <tr>\n",
              "      <th>126</th>\n",
              "      <td>Luxembourg</td>\n",
              "      <td>625976.0</td>\n",
              "      <td>619896.0</td>\n",
              "      <td>79.076</td>\n",
              "      <td>39.7</td>\n",
              "      <td>False</td>\n",
              "      <td>5.974</td>\n",
              "      <td>9.070</td>\n",
              "      <td>False</td>\n",
              "      <td>False</td>\n",
              "      <td>0.595</td>\n",
              "      <td>30.90</td>\n",
              "      <td>0</td>\n",
              "      <td>péssimo</td>\n",
              "    </tr>\n",
              "    <tr>\n",
              "      <th>133</th>\n",
              "      <td>Montenegro</td>\n",
              "      <td>628062.0</td>\n",
              "      <td>622137.0</td>\n",
              "      <td>108.588</td>\n",
              "      <td>39.1</td>\n",
              "      <td>False</td>\n",
              "      <td>3.134</td>\n",
              "      <td>9.015</td>\n",
              "      <td>False</td>\n",
              "      <td>False</td>\n",
              "      <td>0.216</td>\n",
              "      <td>31.93</td>\n",
              "      <td>0</td>\n",
              "      <td>péssimo</td>\n",
              "    </tr>\n",
              "    <tr>\n",
              "      <th>145</th>\n",
              "      <td>Slovakia</td>\n",
              "      <td>5459643.0</td>\n",
              "      <td>5454073.0</td>\n",
              "      <td>39.160</td>\n",
              "      <td>41.2</td>\n",
              "      <td>False</td>\n",
              "      <td>4.655</td>\n",
              "      <td>9.019</td>\n",
              "      <td>False</td>\n",
              "      <td>True</td>\n",
              "      <td>0.195</td>\n",
              "      <td>23.20</td>\n",
              "      <td>0</td>\n",
              "      <td>péssimo</td>\n",
              "    </tr>\n",
              "    <tr>\n",
              "      <th>146</th>\n",
              "      <td>Slovenia</td>\n",
              "      <td>2078932.0</td>\n",
              "      <td>2087946.0</td>\n",
              "      <td>129.730</td>\n",
              "      <td>44.5</td>\n",
              "      <td>False</td>\n",
              "      <td>4.308</td>\n",
              "      <td>9.045</td>\n",
              "      <td>False</td>\n",
              "      <td>False</td>\n",
              "      <td>0.177</td>\n",
              "      <td>23.40</td>\n",
              "      <td>0</td>\n",
              "      <td>péssimo</td>\n",
              "    </tr>\n",
              "    <tr>\n",
              "      <th>151</th>\n",
              "      <td>Switzerland</td>\n",
              "      <td>8654618.0</td>\n",
              "      <td>8574832.0</td>\n",
              "      <td>88.334</td>\n",
              "      <td>43.1</td>\n",
              "      <td>False</td>\n",
              "      <td>5.584</td>\n",
              "      <td>9.078</td>\n",
              "      <td>False</td>\n",
              "      <td>False</td>\n",
              "      <td>0.660</td>\n",
              "      <td>30.10</td>\n",
              "      <td>0</td>\n",
              "      <td>péssimo</td>\n",
              "    </tr>\n",
              "  </tbody>\n",
              "</table>\n",
              "</div>"
            ],
            "text/plain": [
              "                       pais    pop_2020    pop_2019  ...   gini  desempenho  cluster\n",
              "11           United Kingdom  67886004.0  66834405.0  ...  34.07           0  péssimo\n",
              "12                   France  65273512.0  67059887.0  ...  29.30           0  péssimo\n",
              "13                  Germany  83783945.0  83132799.0  ...  31.10           0  péssimo\n",
              "14              Netherlands  17134873.0  17332850.0  ...  27.00           0  péssimo\n",
              "15                  Belgium  11589616.0  11484055.0  ...  25.60           0  péssimo\n",
              "16                    Spain  46754783.0  47076781.0  ...  33.20           0  péssimo\n",
              "17                    Italy  60461828.0  60297396.0  ...  33.40           0  péssimo\n",
              "19                  Hungary   9660350.0   9769949.0  ...  28.70           0  péssimo\n",
              "20           Czech Republic  10708982.0  10669709.0  ...  24.00           0  péssimo\n",
              "84                  Austria   9006400.0   8877067.0  ...  26.80           0  péssimo\n",
              "90   Bosnia and Herzegovina   3280815.0   3301000.0  ...  33.03           0  péssimo\n",
              "100                 Croatia   4105268.0   4067500.0  ...  29.70           0  péssimo\n",
              "126              Luxembourg    625976.0    619896.0  ...  30.90           0  péssimo\n",
              "133              Montenegro    628062.0    622137.0  ...  31.93           0  péssimo\n",
              "145                Slovakia   5459643.0   5454073.0  ...  23.20           0  péssimo\n",
              "146                Slovenia   2078932.0   2087946.0  ...  23.40           0  péssimo\n",
              "151             Switzerland   8654618.0   8574832.0  ...  30.10           0  péssimo\n",
              "\n",
              "[17 rows x 14 columns]"
            ]
          },
          "metadata": {},
          "execution_count": 51
        }
      ]
    },
    {
      "cell_type": "code",
      "source": [
        "#Eu usei essa linha para ficar vendo alguns paises específicos\n",
        "\n",
        "covid.query(\"pais == 'India'\")"
      ],
      "metadata": {
        "colab": {
          "base_uri": "https://localhost:8080/",
          "height": 81
        },
        "id": "i1NfT5hdu2eN",
        "outputId": "f010b9d0-5178-4491-bcbf-851f36627215"
      },
      "execution_count": null,
      "outputs": [
        {
          "output_type": "execute_result",
          "data": {
            "text/html": [
              "<div>\n",
              "<style scoped>\n",
              "    .dataframe tbody tr th:only-of-type {\n",
              "        vertical-align: middle;\n",
              "    }\n",
              "\n",
              "    .dataframe tbody tr th {\n",
              "        vertical-align: top;\n",
              "    }\n",
              "\n",
              "    .dataframe thead th {\n",
              "        text-align: right;\n",
              "    }\n",
              "</style>\n",
              "<table border=\"1\" class=\"dataframe\">\n",
              "  <thead>\n",
              "    <tr style=\"text-align: right;\">\n",
              "      <th></th>\n",
              "      <th>pais</th>\n",
              "      <th>pop_2020</th>\n",
              "      <th>pop_2019</th>\n",
              "      <th>mortes</th>\n",
              "      <th>idade</th>\n",
              "      <th>ilha</th>\n",
              "      <th>exp_covid</th>\n",
              "      <th>dist_sars</th>\n",
              "      <th>pacifico_ocidental</th>\n",
              "      <th>mulher</th>\n",
              "      <th>confianca_inst</th>\n",
              "      <th>gini</th>\n",
              "      <th>desempenho</th>\n",
              "      <th>cluster</th>\n",
              "    </tr>\n",
              "  </thead>\n",
              "  <tbody>\n",
              "    <tr>\n",
              "      <th>30</th>\n",
              "      <td>India</td>\n",
              "      <td>1.380004e+09</td>\n",
              "      <td>1.366418e+09</td>\n",
              "      <td>10.778</td>\n",
              "      <td>28.2</td>\n",
              "      <td>False</td>\n",
              "      <td>0.937</td>\n",
              "      <td>8.532</td>\n",
              "      <td>False</td>\n",
              "      <td>False</td>\n",
              "      <td>0.526</td>\n",
              "      <td>39.334</td>\n",
              "      <td>1</td>\n",
              "      <td>ótimo</td>\n",
              "    </tr>\n",
              "  </tbody>\n",
              "</table>\n",
              "</div>"
            ],
            "text/plain": [
              "     pais      pop_2020      pop_2019  ...    gini  desempenho  cluster\n",
              "30  India  1.380004e+09  1.366418e+09  ...  39.334           1    ótimo\n",
              "\n",
              "[1 rows x 14 columns]"
            ]
          },
          "metadata": {},
          "execution_count": 30
        }
      ]
    },
    {
      "cell_type": "code",
      "source": [
        "from numpy import set_printoptions\n",
        "from sklearn.feature_selection import SelectKBest\n",
        "from sklearn.feature_selection import f_classif"
      ],
      "metadata": {
        "id": "spMc2MGqQzf7"
      },
      "execution_count": null,
      "outputs": []
    },
    {
      "cell_type": "markdown",
      "source": [
        "Antes de tentar ver se é possível a máquina predizer o comportamento de um país, quero ver quais são as minhas variáveis de maior influência para utilizá-las no aprendizado"
      ],
      "metadata": {
        "id": "pt_Hu6QRULSC"
      }
    },
    {
      "cell_type": "code",
      "source": [
        "# excluindo as colunas que não irei utilizar nessa análise\n",
        "\n",
        "dataframe = covid.drop([\"pais\",\"mortes\",\"exp_covid\",\"cluster\"], axis = \"columns\")\n",
        "dataframe.head(5)"
      ],
      "metadata": {
        "id": "EB-ZxpDgpph2",
        "colab": {
          "base_uri": "https://localhost:8080/",
          "height": 206
        },
        "outputId": "4135b079-98db-470d-9b4e-7198dd66b171"
      },
      "execution_count": null,
      "outputs": [
        {
          "output_type": "execute_result",
          "data": {
            "text/html": [
              "<div>\n",
              "<style scoped>\n",
              "    .dataframe tbody tr th:only-of-type {\n",
              "        vertical-align: middle;\n",
              "    }\n",
              "\n",
              "    .dataframe tbody tr th {\n",
              "        vertical-align: top;\n",
              "    }\n",
              "\n",
              "    .dataframe thead th {\n",
              "        text-align: right;\n",
              "    }\n",
              "</style>\n",
              "<table border=\"1\" class=\"dataframe\">\n",
              "  <thead>\n",
              "    <tr style=\"text-align: right;\">\n",
              "      <th></th>\n",
              "      <th>pop_2020</th>\n",
              "      <th>pop_2019</th>\n",
              "      <th>idade</th>\n",
              "      <th>ilha</th>\n",
              "      <th>dist_sars</th>\n",
              "      <th>pacifico_ocidental</th>\n",
              "      <th>mulher</th>\n",
              "      <th>confianca_inst</th>\n",
              "      <th>gini</th>\n",
              "      <th>desempenho</th>\n",
              "    </tr>\n",
              "  </thead>\n",
              "  <tbody>\n",
              "    <tr>\n",
              "      <th>0</th>\n",
              "      <td>331002647.0</td>\n",
              "      <td>328239523.0</td>\n",
              "      <td>38.3</td>\n",
              "      <td>False</td>\n",
              "      <td>9.315</td>\n",
              "      <td>False</td>\n",
              "      <td>False</td>\n",
              "      <td>0.250</td>\n",
              "      <td>47.51</td>\n",
              "      <td>2</td>\n",
              "    </tr>\n",
              "    <tr>\n",
              "      <th>1</th>\n",
              "      <td>102334403.0</td>\n",
              "      <td>100388073.0</td>\n",
              "      <td>25.3</td>\n",
              "      <td>False</td>\n",
              "      <td>9.007</td>\n",
              "      <td>False</td>\n",
              "      <td>False</td>\n",
              "      <td>0.446</td>\n",
              "      <td>31.56</td>\n",
              "      <td>1</td>\n",
              "    </tr>\n",
              "    <tr>\n",
              "      <th>2</th>\n",
              "      <td>36910558.0</td>\n",
              "      <td>36471769.0</td>\n",
              "      <td>29.6</td>\n",
              "      <td>False</td>\n",
              "      <td>9.226</td>\n",
              "      <td>False</td>\n",
              "      <td>False</td>\n",
              "      <td>0.397</td>\n",
              "      <td>39.55</td>\n",
              "      <td>3</td>\n",
              "    </tr>\n",
              "    <tr>\n",
              "      <th>3</th>\n",
              "      <td>6825442.0</td>\n",
              "      <td>6855713.0</td>\n",
              "      <td>31.1</td>\n",
              "      <td>False</td>\n",
              "      <td>8.956</td>\n",
              "      <td>False</td>\n",
              "      <td>False</td>\n",
              "      <td>0.107</td>\n",
              "      <td>31.83</td>\n",
              "      <td>3</td>\n",
              "    </tr>\n",
              "    <tr>\n",
              "      <th>4</th>\n",
              "      <td>34813867.0</td>\n",
              "      <td>34268528.0</td>\n",
              "      <td>31.9</td>\n",
              "      <td>False</td>\n",
              "      <td>8.897</td>\n",
              "      <td>False</td>\n",
              "      <td>False</td>\n",
              "      <td>0.651</td>\n",
              "      <td>45.90</td>\n",
              "      <td>1</td>\n",
              "    </tr>\n",
              "  </tbody>\n",
              "</table>\n",
              "</div>"
            ],
            "text/plain": [
              "      pop_2020     pop_2019  idade  ...  confianca_inst   gini  desempenho\n",
              "0  331002647.0  328239523.0   38.3  ...           0.250  47.51           2\n",
              "1  102334403.0  100388073.0   25.3  ...           0.446  31.56           1\n",
              "2   36910558.0   36471769.0   29.6  ...           0.397  39.55           3\n",
              "3    6825442.0    6855713.0   31.1  ...           0.107  31.83           3\n",
              "4   34813867.0   34268528.0   31.9  ...           0.651  45.90           1\n",
              "\n",
              "[5 rows x 10 columns]"
            ]
          },
          "metadata": {},
          "execution_count": 32
        }
      ]
    },
    {
      "cell_type": "code",
      "source": [
        "# Separando as variáveis do classificador\n",
        "array = dataframe.values\n",
        "X = array[:,:9]\n",
        "Y = array[:,-1]"
      ],
      "metadata": {
        "id": "AGQa_yUAU7qr"
      },
      "execution_count": null,
      "outputs": []
    },
    {
      "cell_type": "code",
      "source": [
        "# escolhi saber quais são as duas variáveis mais relevantes\n",
        "\n",
        "X_new = SelectKBest(f_classif, k=2).fit(X, Y)"
      ],
      "metadata": {
        "id": "j4j5Qt8LVcWs"
      },
      "execution_count": null,
      "outputs": []
    },
    {
      "cell_type": "code",
      "source": [
        "cols = X_new.get_support(indices=1)\n",
        "feature = dataframe.columns[cols].tolist()\n",
        "feature\n",
        "\n",
        "# as variáveis encontradas foram idade e o índice gini, que são as variáveis que na minha matriz tiveram correlação com as mortes e/ou com a exposição"
      ],
      "metadata": {
        "colab": {
          "base_uri": "https://localhost:8080/"
        },
        "id": "VzFjxxPsVe6S",
        "outputId": "9a78699e-bd8c-462b-9aef-83da9040e79d"
      },
      "execution_count": null,
      "outputs": [
        {
          "output_type": "execute_result",
          "data": {
            "text/plain": [
              "['idade', 'gini']"
            ]
          },
          "metadata": {},
          "execution_count": 41
        }
      ]
    },
    {
      "cell_type": "markdown",
      "source": [
        "Preparando a amostra para aplicar numa metodologia de aprendizado"
      ],
      "metadata": {
        "id": "WI0nEyScaeTz"
      }
    },
    {
      "cell_type": "code",
      "source": [
        "# Separando as variáveis que irei utilizar para tentar predizer o desempenho\n",
        "\n",
        "data = dataframe[[\"idade\",\"gini\",\"desempenho\"]]\n",
        "data"
      ],
      "metadata": {
        "colab": {
          "base_uri": "https://localhost:8080/",
          "height": 424
        },
        "id": "jbHUKbJhVszz",
        "outputId": "0ab3a77c-a78f-4eb0-bccb-30a18d46aa3f"
      },
      "execution_count": null,
      "outputs": [
        {
          "output_type": "execute_result",
          "data": {
            "text/html": [
              "<div>\n",
              "<style scoped>\n",
              "    .dataframe tbody tr th:only-of-type {\n",
              "        vertical-align: middle;\n",
              "    }\n",
              "\n",
              "    .dataframe tbody tr th {\n",
              "        vertical-align: top;\n",
              "    }\n",
              "\n",
              "    .dataframe thead th {\n",
              "        text-align: right;\n",
              "    }\n",
              "</style>\n",
              "<table border=\"1\" class=\"dataframe\">\n",
              "  <thead>\n",
              "    <tr style=\"text-align: right;\">\n",
              "      <th></th>\n",
              "      <th>idade</th>\n",
              "      <th>gini</th>\n",
              "      <th>desempenho</th>\n",
              "    </tr>\n",
              "  </thead>\n",
              "  <tbody>\n",
              "    <tr>\n",
              "      <th>0</th>\n",
              "      <td>38.3</td>\n",
              "      <td>47.51</td>\n",
              "      <td>2</td>\n",
              "    </tr>\n",
              "    <tr>\n",
              "      <th>1</th>\n",
              "      <td>25.3</td>\n",
              "      <td>31.56</td>\n",
              "      <td>1</td>\n",
              "    </tr>\n",
              "    <tr>\n",
              "      <th>2</th>\n",
              "      <td>29.6</td>\n",
              "      <td>39.55</td>\n",
              "      <td>3</td>\n",
              "    </tr>\n",
              "    <tr>\n",
              "      <th>3</th>\n",
              "      <td>31.1</td>\n",
              "      <td>31.83</td>\n",
              "      <td>3</td>\n",
              "    </tr>\n",
              "    <tr>\n",
              "      <th>4</th>\n",
              "      <td>31.9</td>\n",
              "      <td>45.90</td>\n",
              "      <td>1</td>\n",
              "    </tr>\n",
              "    <tr>\n",
              "      <th>...</th>\n",
              "      <td>...</td>\n",
              "      <td>...</td>\n",
              "      <td>...</td>\n",
              "    </tr>\n",
              "    <tr>\n",
              "      <th>158</th>\n",
              "      <td>35.6</td>\n",
              "      <td>39.25</td>\n",
              "      <td>1</td>\n",
              "    </tr>\n",
              "    <tr>\n",
              "      <th>159</th>\n",
              "      <td>28.2</td>\n",
              "      <td>39.70</td>\n",
              "      <td>1</td>\n",
              "    </tr>\n",
              "    <tr>\n",
              "      <th>160</th>\n",
              "      <td>20.3</td>\n",
              "      <td>36.71</td>\n",
              "      <td>1</td>\n",
              "    </tr>\n",
              "    <tr>\n",
              "      <th>161</th>\n",
              "      <td>35.0</td>\n",
              "      <td>29.01</td>\n",
              "      <td>3</td>\n",
              "    </tr>\n",
              "    <tr>\n",
              "      <th>162</th>\n",
              "      <td>19.2</td>\n",
              "      <td>46.34</td>\n",
              "      <td>1</td>\n",
              "    </tr>\n",
              "  </tbody>\n",
              "</table>\n",
              "<p>163 rows × 3 columns</p>\n",
              "</div>"
            ],
            "text/plain": [
              "     idade   gini  desempenho\n",
              "0     38.3  47.51           2\n",
              "1     25.3  31.56           1\n",
              "2     29.6  39.55           3\n",
              "3     31.1  31.83           3\n",
              "4     31.9  45.90           1\n",
              "..     ...    ...         ...\n",
              "158   35.6  39.25           1\n",
              "159   28.2  39.70           1\n",
              "160   20.3  36.71           1\n",
              "161   35.0  29.01           3\n",
              "162   19.2  46.34           1\n",
              "\n",
              "[163 rows x 3 columns]"
            ]
          },
          "metadata": {},
          "execution_count": 42
        }
      ]
    },
    {
      "cell_type": "code",
      "source": [
        "# separando o etiquetador\n",
        "data_x = data.drop('desempenho', axis=1)\n",
        "data_y = data['desempenho']"
      ],
      "metadata": {
        "id": "2hnGu4REWKmm"
      },
      "execution_count": null,
      "outputs": []
    },
    {
      "cell_type": "code",
      "source": [
        "# dividindo meus dados em grupo de treinamento e teste. Separei 70% para treinamento e 30% para teste\n",
        "\n",
        "from sklearn.model_selection import train_test_split\n",
        "\n",
        "X_train, X_test, y_train, y_test = train_test_split(data_x, data_y, test_size=0.3, random_state=9765, stratify=data_y)"
      ],
      "metadata": {
        "id": "3tAqswUjWR02"
      },
      "execution_count": null,
      "outputs": []
    },
    {
      "cell_type": "code",
      "source": [
        "# Como meus grupos tem quantidades de países dentro de cada um muito discrepantes entre si, tenho que balancear minhas amostras\n",
        "# Para isso vou usar a função smote que faz um oversampling das amostras pequenas gerando artificialmente novos valores\n",
        "#(como minha base já está pequena fazer um undersampling reduziria demais a quantidade de valores para um machine learning)\n",
        "\n",
        "from imblearn.over_sampling import SMOTE\n",
        "\n",
        "sm = SMOTE(random_state=6754)\n",
        "X_train_res, y_train_res = sm.fit_resample(X_train, y_train)"
      ],
      "metadata": {
        "id": "C6YMUzXmWjlA"
      },
      "execution_count": null,
      "outputs": []
    },
    {
      "cell_type": "markdown",
      "source": [
        "Tudo pronto, hora do aprendizado"
      ],
      "metadata": {
        "id": "zNV2raoNbHOX"
      }
    },
    {
      "cell_type": "code",
      "source": [
        "# aplicando uma árvore de decisão\n",
        "\n",
        "from sklearn.tree import DecisionTreeClassifier\n",
        "classifier = DecisionTreeClassifier()\n",
        "classifier.fit(X_train_res, y_train_res)"
      ],
      "metadata": {
        "colab": {
          "base_uri": "https://localhost:8080/"
        },
        "id": "ECRfdRv_aZac",
        "outputId": "61faab13-b00e-4b0a-83c7-584d9030a60f"
      },
      "execution_count": null,
      "outputs": [
        {
          "output_type": "execute_result",
          "data": {
            "text/plain": [
              "DecisionTreeClassifier()"
            ]
          },
          "metadata": {},
          "execution_count": 46
        }
      ]
    },
    {
      "cell_type": "code",
      "source": [
        "# fazendo o teste do aprendizado\n",
        "\n",
        "y_pred = classifier.predict(X_test)"
      ],
      "metadata": {
        "id": "KZ_YBZhZbMjG"
      },
      "execution_count": null,
      "outputs": []
    },
    {
      "cell_type": "markdown",
      "source": [
        "Avaliação do aprendizado"
      ],
      "metadata": {
        "id": "Cwe2uCJCbb7M"
      }
    },
    {
      "cell_type": "code",
      "source": [
        "# matriz de confusão e métricas associadas para avaliação\n",
        "\n",
        "from sklearn.metrics import classification_report, confusion_matrix\n",
        "print(confusion_matrix(y_test, y_pred))\n",
        "print(classification_report(y_test, y_pred))"
      ],
      "metadata": {
        "colab": {
          "base_uri": "https://localhost:8080/"
        },
        "id": "vZHsiOELbUhV",
        "outputId": "0146c62c-38c6-416f-9bdd-559eb97e64f1"
      },
      "execution_count": null,
      "outputs": [
        {
          "output_type": "stream",
          "name": "stdout",
          "text": [
            "[[ 3  0  0  2]\n",
            " [ 0 22  4  3]\n",
            " [ 1  4  0  1]\n",
            " [ 2  3  2  2]]\n",
            "              precision    recall  f1-score   support\n",
            "\n",
            "           0       0.50      0.60      0.55         5\n",
            "           1       0.76      0.76      0.76        29\n",
            "           2       0.00      0.00      0.00         6\n",
            "           3       0.25      0.22      0.24         9\n",
            "\n",
            "    accuracy                           0.55        49\n",
            "   macro avg       0.38      0.40      0.38        49\n",
            "weighted avg       0.55      0.55      0.55        49\n",
            "\n"
          ]
        }
      ]
    },
    {
      "cell_type": "code",
      "source": [
        "# lembrando dos labels\n",
        "dict_cluster"
      ],
      "metadata": {
        "colab": {
          "base_uri": "https://localhost:8080/"
        },
        "id": "cR7roeKUcLuY",
        "outputId": "3c01f7cb-aae2-4f6c-b9ea-578e6c26d709"
      },
      "execution_count": null,
      "outputs": [
        {
          "output_type": "execute_result",
          "data": {
            "text/plain": [
              "{0: 'péssimo', 1: 'ótimo', 2: 'ruim', 3: 'bom'}"
            ]
          },
          "metadata": {},
          "execution_count": 50
        }
      ]
    },
    {
      "cell_type": "code",
      "source": [
        "# fazendo um gráfico da matriz de confusão\n",
        "\n",
        "conf_mat = confusion_matrix(y_true=y_test, y_pred=y_pred)\n",
        "print('Confusion matrix:\\n', conf_mat)\n",
        "\n",
        "labels = ['Péssimo', 'Ótimo', 'Ruim', 'Bom']\n",
        "fig = plt.figure()\n",
        "ax = fig.add_subplot(111)\n",
        "cax = ax.matshow(conf_mat, cmap=plt.cm.Blues)\n",
        "fig.colorbar(cax)\n",
        "ax.set_xticklabels([''] + labels)\n",
        "ax.set_yticklabels([''] + labels)\n",
        "plt.xlabel('Predito')\n",
        "plt.ylabel('Esperado')\n",
        "plt.show()"
      ],
      "metadata": {
        "colab": {
          "base_uri": "https://localhost:8080/",
          "height": 448
        },
        "id": "wuVWR2UAbsCv",
        "outputId": "6c4f6971-6766-4262-ccaa-c88e6a3307e0"
      },
      "execution_count": null,
      "outputs": [
        {
          "output_type": "stream",
          "name": "stdout",
          "text": [
            "Confusion matrix:\n",
            " [[ 3  0  0  2]\n",
            " [ 0 22  4  3]\n",
            " [ 1  4  0  1]\n",
            " [ 2  3  2  2]]\n"
          ]
        },
        {
          "output_type": "display_data",
          "data": {
            "image/png": "[encoded data removed]",
            "text/plain": [
              "<Figure size 576x396 with 2 Axes>"
            ]
          },
          "metadata": {}
        }
      ]
    },
    {
      "cell_type": "markdown",
      "source": [
        "Meu modelo teve bom desempenho para predizer os países com classificação ótimo, no entanto não serviu para as outras classificações. Talvez seja melhor mudar o método de balanceamento da amostra ou seleção de outro tipo de aprendizado."
      ],
      "metadata": {
        "id": "47ejbikXb9IT"
      }
    },
    {
      "cell_type": "markdown",
      "source": [
        "Explorando toda a base muitas coisas me chamaram atenção e senti falta de outras variáveis como medida, como por exemplo o PIB de cada país.\n",
        "\n",
        "Quanto à maioria dos países com desemprenho classificado como péssimo serem europeus penso que seja também um problema de disponibilidade de dados. É sabido que esses países sempre tiveram maior número de testes disponíveis, então tiveram melhor monitoramento da pandemia. A Índia por exemplo está com classificação ótima, mas os valores de 2021 não estão inclusos e foi quando a Índia teve uma grande crise de covid.\n",
        "\n",
        "O índice gini foi uma variável classificada como relevante, no entanto muitos países com maior igualdade de distribuição de renda são países muito pobres. Igualdade de distribuição de renda não significa riqueza.\n",
        "\n",
        "Muitas coisas ainda podem ser exploradas nessa base e de diferentes formas."
      ],
      "metadata": {
        "id": "1vVYO_-zdcBV"
      }
    }
  ]
}